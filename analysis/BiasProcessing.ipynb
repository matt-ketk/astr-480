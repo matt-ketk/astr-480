{
 "cells": [
  {
   "cell_type": "code",
   "execution_count": 1,
   "id": "652bccc6-bb69-4a1c-b542-a5102e8ec8f1",
   "metadata": {},
   "outputs": [],
   "source": [
    "from scipy.stats import norm\n",
    "import numpy as np\n",
    "import matplotlib.pyplot as plt\n",
    "\n",
    "from pathlib import Path\n",
    "from astropy.nddata import CCDData\n",
    "from astropy.io import fits\n",
    "from ccdproc import ImageFileCollection\n",
    "import ccdproc as ccdp\n",
    "\n",
    "from astropy.nddata import CCDData\n",
    "from astropy.stats import mad_std\n",
    "import astropy.units as u\n",
    "from convenience_functions import show_image\n",
    "\n",
    "# suppress warnings is not recommended :I\n",
    "import warnings\n",
    "warnings.filterwarnings(\"ignore\")"
   ]
  },
  {
   "cell_type": "code",
   "execution_count": 2,
   "id": "00448847-4775-4638-b8b1-85cbd43d6b33",
   "metadata": {},
   "outputs": [
    {
     "name": "stderr",
     "output_type": "stream",
     "text": [
      "INFO:astropy:splitting each image into 9 chunks to limit memory usage to 350000000.0 bytes.\n"
     ]
    },
    {
     "name": "stdout",
     "output_type": "stream",
     "text": [
      "INFO: splitting each image into 9 chunks to limit memory usage to 350000000.0 bytes. [ccdproc.combiner]\n"
     ]
    }
   ],
   "source": [
    "bias_dir = './data/bias/'\n",
    "raw_bias_dir = bias_dir + 'raw/'\n",
    "\n",
    "raw_biases = ImageFileCollection(raw_bias_dir).files_filtered(\n",
    "    imagetyp='bias',\n",
    "    include_path=True\n",
    ")\n",
    "\n",
    "combined_bias = ccdp.combine(\n",
    "    raw_biases,\n",
    "    method='average',\n",
    "    sigma_clip=True, sigma_clip_low_thresh=5, sigma_clip_high_thresh=5,\n",
    "    sigma_clip_func=np.ma.median, signma_clip_dev_func=mad_std,\n",
    "    mem_limit=350e6,\n",
    "    unit='adu'\n",
    ");\n",
    "\n",
    "combined_bias.write(bias_dir + '/combined_bias.fits', overwrite=True)"
   ]
  },
  {
   "cell_type": "code",
   "execution_count": null,
   "id": "cdd3bd7c-2d62-40ff-8f87-3c8e4383abeb",
   "metadata": {},
   "outputs": [],
   "source": []
  }
 ],
 "metadata": {
  "kernelspec": {
   "display_name": "Python 3 (ipykernel)",
   "language": "python",
   "name": "python3"
  },
  "language_info": {
   "codemirror_mode": {
    "name": "ipython",
    "version": 3
   },
   "file_extension": ".py",
   "mimetype": "text/x-python",
   "name": "python",
   "nbconvert_exporter": "python",
   "pygments_lexer": "ipython3",
   "version": "3.9.12"
  }
 },
 "nbformat": 4,
 "nbformat_minor": 5
}
