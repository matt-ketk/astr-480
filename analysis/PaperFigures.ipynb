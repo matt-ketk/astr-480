{
 "cells": [
  {
   "cell_type": "code",
   "execution_count": 1,
   "id": "6091dba3-94f4-40d4-9840-579d8bd02336",
   "metadata": {},
   "outputs": [],
   "source": [
    "from scipy.stats import norm\n",
    "import numpy as np\n",
    "import matplotlib.pyplot as plt\n",
    "import matplotlib\n",
    "\n",
    "from pathlib import Path\n",
    "from astropy.nddata import CCDData\n",
    "from astropy.io import fits\n",
    "from ccdproc import ImageFileCollection\n",
    "import ccdproc as ccdp\n",
    "\n",
    "from astropy.nddata import CCDData\n",
    "from astropy.stats import mad_std\n",
    "import astropy.units as u\n",
    "from convenience_functions import show_image\n",
    "\n",
    "# suppress warnings is not recommended :I\n",
    "import warnings\n",
    "warnings.filterwarnings(\"ignore\")\n",
    "\n",
    "bias_dir = './data/bias'\n",
    "flat_dir = './data/flat'\n",
    "darks_dir = './data/dark'\n",
    "tzboo_dir = './data/tz_boo'\n",
    "cccom_dir = './data/cc_com'"
   ]
  },
  {
   "cell_type": "code",
   "execution_count": 2,
   "id": "32dae7f1-3f3f-47d6-890e-735edc662255",
   "metadata": {},
   "outputs": [],
   "source": [
    "matplotlib.use('pgf')\n",
    "matplotlib.rcParams.update({\n",
    "    'pgf.texsystem': 'pdflatex',\n",
    "    'font.family': 'serif',\n",
    "    'text.usetex': True,\n",
    "    'pgf.rcfonts': False,\n",
    "})"
   ]
  },
  {
   "cell_type": "markdown",
   "id": "6afd7a5b-753a-4dd4-bb68-c30cc81118f8",
   "metadata": {},
   "source": [
    "# What figures do we need\n",
    "## Tables\n",
    "- Bias, Dark, Flat data summary\n",
    "- Comparison of fluxes from PSF, DAOSF, Aperture methods\n",
    "\n",
    "## Figures\n",
    "- Light Curves comparison (normalized)\n",
    "- "
   ]
  },
  {
   "cell_type": "code",
   "execution_count": null,
   "id": "9a58db5a-8908-4662-96c5-98b6d8997dab",
   "metadata": {},
   "outputs": [],
   "source": []
  }
 ],
 "metadata": {
  "kernelspec": {
   "display_name": "Python 3 (ipykernel)",
   "language": "python",
   "name": "python3"
  },
  "language_info": {
   "codemirror_mode": {
    "name": "ipython",
    "version": 3
   },
   "file_extension": ".py",
   "mimetype": "text/x-python",
   "name": "python",
   "nbconvert_exporter": "python",
   "pygments_lexer": "ipython3",
   "version": "3.9.12"
  }
 },
 "nbformat": 4,
 "nbformat_minor": 5
}
