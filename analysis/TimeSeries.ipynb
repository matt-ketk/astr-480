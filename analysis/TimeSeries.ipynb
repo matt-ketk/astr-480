{
 "cells": [
  {
   "cell_type": "code",
   "execution_count": null,
   "id": "b76a33b8-1965-4c33-8f63-1099ac0ff9b6",
   "metadata": {},
   "outputs": [],
   "source": [
    "from ccdproc import ImageFileCollection\n",
    "import ccdproc as ccdp\n",
    "from astropy.nddata import CCDData\n",
    "from astropy import units as u\n",
    "from astropy.timeseries import BinnedTimeSeries\n",
    "\n",
    "import numpy as np\n",
    "import matplotlib.pyplot as plt\n",
    "import matplotlib"
   ]
  },
  {
   "cell_type": "code",
   "execution_count": 3,
   "id": "f506b0b7-a475-4ad7-8a04-1340c5678320",
   "metadata": {},
   "outputs": [],
   "source": [
    "cc_com_reduced = './data/cc_com/reduced/'\n",
    "tz_boo_reduced = './data/tz_boo/reduced/'\n",
    "\n",
    "def parse_timeseries_data(images_dir):\n",
    "    images = ImageFileCollection(images_dir)\n",
    "    images = images.files_filtered(include_path=True)\n",
    "    \n",
    "    timestamps = []\n",
    "    fluxes = []\n",
    "    for i, path in np.ndenumerate(images):\n",
    "        image = CCDData.read(path, unit='adu')\n",
    "        timestamps.append(image.header['DATE-OBS'])\n",
    "        fluxes.append(image.header['FLUX'])\n",
    "    \n",
    "    light_curve = BinnedTimeSeries(\n",
    "        time_bin_start=timestamps,\n",
    "        time_bin_size=15*u.s,\n",
    "        data={\n",
    "            'DAO flux' : fluxes * u.adu\n",
    "        }\n",
    "    )\n",
    "        \n",
    "    return light_curve"
   ]
  },
  {
   "cell_type": "code",
   "execution_count": 4,
   "id": "a0689788-98b4-49b8-93f5-394622b5c861",
   "metadata": {},
   "outputs": [],
   "source": [
    "matplotlib.use('pgf')\n",
    "matplotlib.rcParams.update({\n",
    "    'pgf.texsystem': 'pdflatex',\n",
    "    'font.family': 'serif',\n",
    "    'text.usetex': True,\n",
    "    'pgf.rcfonts': False,\n",
    "})\n",
    "matplotlib.rcParams['figure.dpi'] = 200\n",
    "matplotlib.rcParams['font.size'] = 12"
   ]
  },
  {
   "cell_type": "code",
   "execution_count": 5,
   "id": "5b7c6b52-413b-40ed-8123-fbdb7317c9aa",
   "metadata": {},
   "outputs": [],
   "source": [
    "cc_lightcurve = BinnedTimeSeries.read(\n",
    "    './results/cccom_results.csv',\n",
    "    time_bin_start_column='time_bin_start',\n",
    "    time_bin_size_column='time_bin_size',\n",
    "    time_bin_size_unit=u.s\n",
    ")\n",
    "plt.plot(cc_lightcurve.time_bin_start.jd, cc_lightcurve['DAO flux'] / cc_lightcurve['DAO flux'].max(), 'k.', markersize=4, label='DAO rel. flux')\n",
    "plt.plot(cc_lightcurve.time_bin_start.jd, cc_lightcurve['AP flux'] / cc_lightcurve['AP flux'].max(), 'r.', markersize=4, label='AP rel. flux')\n",
    "plt.legend()\n",
    "plt.xlabel('Julian Date')\n",
    "plt.ylabel('Relative Flux, Normalized')\n",
    "plt.title('V* CC Com Light Curve')\n",
    "plt.savefig('../paper/figures/cc-com_lightcurve.png')"
   ]
  },
  {
   "cell_type": "code",
   "execution_count": 6,
   "id": "b195ef24-0dce-4864-bbf4-8154ef1ead2f",
   "metadata": {},
   "outputs": [],
   "source": [
    "tz_lightcurve = BinnedTimeSeries.read(\n",
    "    './results/tzboo_results.csv',\n",
    "    time_bin_start_column='time_bin_start',\n",
    "    time_bin_size_column='time_bin_size',\n",
    "    time_bin_size_unit=u.s\n",
    ")\n",
    "plt.plot(tz_lightcurve.time_bin_start.jd, tz_lightcurve['DAO flux'] / tz_lightcurve['DAO flux'].max(), 'k.', markersize=4, label='DAO rel. flux')\n",
    "plt.plot(tz_lightcurve.time_bin_start.jd, tz_lightcurve['AP flux'] / tz_lightcurve['AP flux'].max(), 'r.', markersize=4, label='AP rel. flux')\n",
    "plt.legend()\n",
    "plt.xlabel('Julian Date')\n",
    "plt.ylabel('Relative Flux, Normalized')\n",
    "plt.title('TZ Boo Light Curve')\n",
    "plt.savefig('../paper/figures/tz-boo_lightcurve.png')"
   ]
  },
  {
   "cell_type": "code",
   "execution_count": null,
   "id": "a7179346-7cf8-4afb-9416-12ed04762f88",
   "metadata": {},
   "outputs": [],
   "source": []
  }
 ],
 "metadata": {
  "kernelspec": {
   "display_name": "Python 3 (ipykernel)",
   "language": "python",
   "name": "python3"
  },
  "language_info": {
   "codemirror_mode": {
    "name": "ipython",
    "version": 3
   },
   "file_extension": ".py",
   "mimetype": "text/x-python",
   "name": "python",
   "nbconvert_exporter": "python",
   "pygments_lexer": "ipython3",
   "version": "3.9.12"
  }
 },
 "nbformat": 4,
 "nbformat_minor": 5
}
