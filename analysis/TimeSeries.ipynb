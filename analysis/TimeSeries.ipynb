{
 "cells": [
  {
   "cell_type": "code",
   "execution_count": 18,
   "id": "b76a33b8-1965-4c33-8f63-1099ac0ff9b6",
   "metadata": {},
   "outputs": [],
   "source": [
    "from ccdproc import ImageFileCollection\n",
    "import ccdproc as ccdp\n",
    "from astropy.nddata import CCDData\n",
    "from astropy import units as u\n",
    "from astropy.timeseries import BinnedTimeSeries\n",
    "\n",
    "import numpy as np\n",
    "import matplotlib.pyplot as plt"
   ]
  },
  {
   "cell_type": "code",
   "execution_count": 20,
   "id": "f506b0b7-a475-4ad7-8a04-1340c5678320",
   "metadata": {},
   "outputs": [],
   "source": [
    "cc_com_reduced = './data/cc_com/reduced/'\n",
    "tz_boo_reduced = './data/tz_boo/reduced/'\n",
    "\n",
    "def parse_timeseries_data(images_dir):\n",
    "    images = ImageFileCollection(images_dir)\n",
    "    images = images.files_filtered(include_path=True)\n",
    "    \n",
    "    timestamps = []\n",
    "    fluxes = []\n",
    "    for i, path in np.ndenumerate(images):\n",
    "        image = CCDData.read(path, unit='adu')\n",
    "        timestamps.append(image.header['DATE-OBS'])\n",
    "        fluxes.append(image.header['FLUX'])\n",
    "    \n",
    "    light_curve = BinnedTimeSeries(\n",
    "        time_bin_start=timestamps,\n",
    "        time_bin_size=15*u.s,\n",
    "        data={'flux' : fluxes * u.adu}\n",
    "    )\n",
    "        \n",
    "    return light_curve"
   ]
  },
  {
   "cell_type": "code",
   "execution_count": 45,
   "id": "5b7c6b52-413b-40ed-8123-fbdb7317c9aa",
   "metadata": {},
   "outputs": [
    {
     "name": "stderr",
     "output_type": "stream",
     "text": [
      "INFO:astropy:using the unit adu passed to the FITS reader instead of the unit adu in the FITS file.\n",
      "WARNING: FITSFixedWarning: RADECSYS= 'FK5 ' / Equatorial coordinate system \n",
      "the RADECSYS keyword is deprecated, use RADESYSa. [astropy.wcs.wcs]\n",
      "WARNING:astropy:FITSFixedWarning: RADECSYS= 'FK5 ' / Equatorial coordinate system \n",
      "the RADECSYS keyword is deprecated, use RADESYSa.\n",
      "WARNING: FITSFixedWarning: 'datfix' made the change 'Set MJD-OBS to 60069.158212 from DATE-OBS'. [astropy.wcs.wcs]\n",
      "WARNING:astropy:FITSFixedWarning: 'datfix' made the change 'Set MJD-OBS to 60069.158212 from DATE-OBS'.\n"
     ]
    },
    {
     "name": "stdout",
     "output_type": "stream",
     "text": [
      "INFO: using the unit adu passed to the FITS reader instead of the unit adu in the FITS file. [astropy.nddata.ccddata]\n"
     ]
    },
    {
     "name": "stderr",
     "output_type": "stream",
     "text": [
      "INFO:astropy:using the unit adu passed to the FITS reader instead of the unit adu in the FITS file.\n",
      "WARNING: FITSFixedWarning: 'datfix' made the change 'Set MJD-OBS to 60069.177102 from DATE-OBS'. [astropy.wcs.wcs]\n",
      "WARNING:astropy:FITSFixedWarning: 'datfix' made the change 'Set MJD-OBS to 60069.177102 from DATE-OBS'.\n"
     ]
    },
    {
     "name": "stdout",
     "output_type": "stream",
     "text": [
      "INFO: using the unit adu passed to the FITS reader instead of the unit adu in the FITS file. [astropy.nddata.ccddata]\n"
     ]
    },
    {
     "name": "stderr",
     "output_type": "stream",
     "text": [
      "INFO:astropy:using the unit adu passed to the FITS reader instead of the unit adu in the FITS file.\n",
      "WARNING: FITSFixedWarning: 'datfix' made the change 'Set MJD-OBS to 60069.207090 from DATE-OBS'. [astropy.wcs.wcs]\n",
      "WARNING:astropy:FITSFixedWarning: 'datfix' made the change 'Set MJD-OBS to 60069.207090 from DATE-OBS'.\n"
     ]
    },
    {
     "name": "stdout",
     "output_type": "stream",
     "text": [
      "INFO: using the unit adu passed to the FITS reader instead of the unit adu in the FITS file. [astropy.nddata.ccddata]\n"
     ]
    },
    {
     "data": {
      "text/plain": [
       "[<matplotlib.lines.Line2D at 0x7f24f1b24280>]"
      ]
     },
     "execution_count": 45,
     "metadata": {},
     "output_type": "execute_result"
    },
    {
     "data": {
      "image/png": "[encoded data removed]",
      "text/plain": [
       "<Figure size 432x288 with 1 Axes>"
      ]
     },
     "metadata": {
      "needs_background": "light"
     },
     "output_type": "display_data"
    }
   ],
   "source": [
    "cc_lightcurve = parse_timeseries_data(cc_com_reduced)\n",
    "plt.plot(cc_lightcurve.time_bin_start.jd, cc_lightcurve['flux'], 'k.', markersize=4)"
   ]
  },
  {
   "cell_type": "code",
   "execution_count": 44,
   "id": "b195ef24-0dce-4864-bbf4-8154ef1ead2f",
   "metadata": {},
   "outputs": [
    {
     "name": "stderr",
     "output_type": "stream",
     "text": [
      "INFO:astropy:using the unit adu passed to the FITS reader instead of the unit adu in the FITS file.\n",
      "WARNING: FITSFixedWarning: RADECSYS= 'FK5 ' / Equatorial coordinate system \n",
      "the RADECSYS keyword is deprecated, use RADESYSa. [astropy.wcs.wcs]\n",
      "WARNING:astropy:FITSFixedWarning: RADECSYS= 'FK5 ' / Equatorial coordinate system \n",
      "the RADECSYS keyword is deprecated, use RADESYSa.\n",
      "WARNING: FITSFixedWarning: 'datfix' made the change 'Set MJD-OBS to 60069.151204 from DATE-OBS'. [astropy.wcs.wcs]\n",
      "WARNING:astropy:FITSFixedWarning: 'datfix' made the change 'Set MJD-OBS to 60069.151204 from DATE-OBS'.\n"
     ]
    },
    {
     "name": "stdout",
     "output_type": "stream",
     "text": [
      "INFO: using the unit adu passed to the FITS reader instead of the unit adu in the FITS file. [astropy.nddata.ccddata]\n"
     ]
    },
    {
     "name": "stderr",
     "output_type": "stream",
     "text": [
      "INFO:astropy:using the unit adu passed to the FITS reader instead of the unit adu in the FITS file.\n",
      "WARNING: FITSFixedWarning: 'datfix' made the change 'Set MJD-OBS to 60069.170860 from DATE-OBS'. [astropy.wcs.wcs]\n",
      "WARNING:astropy:FITSFixedWarning: 'datfix' made the change 'Set MJD-OBS to 60069.170860 from DATE-OBS'.\n"
     ]
    },
    {
     "name": "stdout",
     "output_type": "stream",
     "text": [
      "INFO: using the unit adu passed to the FITS reader instead of the unit adu in the FITS file. [astropy.nddata.ccddata]\n"
     ]
    },
    {
     "name": "stderr",
     "output_type": "stream",
     "text": [
      "INFO:astropy:using the unit adu passed to the FITS reader instead of the unit adu in the FITS file.\n",
      "WARNING: FITSFixedWarning: 'datfix' made the change 'Set MJD-OBS to 60069.190130 from DATE-OBS'. [astropy.wcs.wcs]\n",
      "WARNING:astropy:FITSFixedWarning: 'datfix' made the change 'Set MJD-OBS to 60069.190130 from DATE-OBS'.\n"
     ]
    },
    {
     "name": "stdout",
     "output_type": "stream",
     "text": [
      "INFO: using the unit adu passed to the FITS reader instead of the unit adu in the FITS file. [astropy.nddata.ccddata]\n"
     ]
    },
    {
     "name": "stderr",
     "output_type": "stream",
     "text": [
      "INFO:astropy:using the unit adu passed to the FITS reader instead of the unit adu in the FITS file.\n",
      "WARNING: FITSFixedWarning: 'datfix' made the change 'Set MJD-OBS to 60069.231634 from DATE-OBS'. [astropy.wcs.wcs]\n",
      "WARNING:astropy:FITSFixedWarning: 'datfix' made the change 'Set MJD-OBS to 60069.231634 from DATE-OBS'.\n"
     ]
    },
    {
     "name": "stdout",
     "output_type": "stream",
     "text": [
      "INFO: using the unit adu passed to the FITS reader instead of the unit adu in the FITS file. [astropy.nddata.ccddata]\n"
     ]
    },
    {
     "data": {
      "text/plain": [
       "[<matplotlib.lines.Line2D at 0x7f24f1ba3910>]"
      ]
     },
     "execution_count": 44,
     "metadata": {},
     "output_type": "execute_result"
    },
    {
     "data": {
      "image/png": "[encoded data removed]",
      "text/plain": [
       "<Figure size 432x288 with 1 Axes>"
      ]
     },
     "metadata": {
      "needs_background": "light"
     },
     "output_type": "display_data"
    }
   ],
   "source": [
    "tz_lightcurve = parse_timeseries_data(tz_boo_reduced)\n",
    "plt.plot(tz_lightcurve.time_bin_start.jd, tz_lightcurve['flux'], 'k.', markersize=4)"
   ]
  },
  {
   "cell_type": "code",
   "execution_count": null,
   "id": "e879e258-3f13-4ab6-a35b-2e5eb2e617f1",
   "metadata": {},
   "outputs": [],
   "source": []
  }
 ],
 "metadata": {
  "kernelspec": {
   "display_name": "Python 3 (ipykernel)",
   "language": "python",
   "name": "python3"
  },
  "language_info": {
   "codemirror_mode": {
    "name": "ipython",
    "version": 3
   },
   "file_extension": ".py",
   "mimetype": "text/x-python",
   "name": "python",
   "nbconvert_exporter": "python",
   "pygments_lexer": "ipython3",
   "version": "3.9.12"
  }
 },
 "nbformat": 4,
 "nbformat_minor": 5
}
