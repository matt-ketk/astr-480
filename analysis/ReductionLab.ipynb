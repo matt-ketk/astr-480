{
 "cells": [
  {
   "cell_type": "code",
   "execution_count": 16,
   "id": "0bf64b67-4158-499b-a76d-6949674f3cd8",
   "metadata": {},
   "outputs": [],
   "source": [
    "from scipy.stats import norm\n",
    "import numpy as np\n",
    "import matplotlib.pyplot as plt\n",
    "\n",
    "from pathlib import Path\n",
    "from astropy.nddata import CCDData\n",
    "from astropy.io import fits\n",
    "from ccdproc import ImageFileCollection\n",
    "import ccdproc as ccdp\n",
    "\n",
    "from astropy.nddata import CCDData\n",
    "from astropy.stats import mad_std\n",
    "import astropy.units as u\n",
    "from convenience_functions import show_image\n",
    "\n",
    "# suppress warnings is not recommended :I\n",
    "import warnings\n",
    "warnings.filterwarnings(\"ignore\")\n",
    "\n",
    "bias_dir = './data/bias'\n",
    "flat_dir = './data/flat'\n",
    "darks_dir = './data/dark'\n",
    "tzboo_dir = './data/tz_boo'\n",
    "cccom_dir = './data/cc_com'"
   ]
  },
  {
   "cell_type": "markdown",
   "id": "8428ad46-5663-41cf-a917-c32f36dd5b96",
   "metadata": {
    "tags": []
   },
   "source": [
    "# Responses to the Data Reduction & Photometry Lab\n",
    "## 1. Define the bias. Include both a description of what it looks like physically, why it occurs, and how we take it into account (how do we remove its effect on our data images?)\n",
    "\n",
    "A bias contains a grid of values added to every pixel on the CCD to ensure no negative pixel values are output. A bias value to a pixel can be likened to adjusting the y-intercept of a linear function. We expect to account for negative pixel counts because reading noise can be modeled as a Gaussian distribution with a mean of zero and some standard deviation. The read noise comes from material imperfections of the CCD. Ideally, a bias would be uniform across all CCD pixels.\n",
    "\n",
    "In practice, biases are offset voltages. To take a bias of a given CCD instrument, one reads out the CCD with zero exposure time. \n",
    "\n",
    "## 2. Why would we use more than one bias frame?\n",
    "\n",
    "The noise reduction factor goes like $\\sim 1/\\sqrt{N}$, with $N$ as the number of combined biases to be combined. Having multiple biases thus increases the amount the noise is reduced"
   ]
  },
  {
   "cell_type": "markdown",
   "id": "0d05df3a-f854-417e-aece-c3afff87b1e3",
   "metadata": {},
   "source": [
    "## 3. List the average value of each of your bias frames, as well as your final master bias."
   ]
  },
  {
   "cell_type": "code",
   "execution_count": null,
   "id": "12576c5b-4d8a-42a6-9840-9b9f946e1dea",
   "metadata": {},
   "outputs": [],
   "source": [
    "biases = ImageFileCollection(bias_dir).files_filtered(imagetyp='bias', include_path=True)\n",
    "\n",
    "combined_bias = ccdp.combine(biases,\n",
    "                             method='average',\n",
    "                             sigma_clip=True, sigma_clip_low_thresh=5, sigma_clip_high_thresh=5,\n",
    "                             sigma_clip_func=np.ma.median, signma_clip_dev_func=mad_std,\n",
    "                             mem_limit=350e6,\n",
    "                             unit='adu'\n",
    "                            );\n",
    "combined_bias.write(bias_dir + '/combined_bias.fits')"
   ]
  },
  {
   "cell_type": "code",
   "execution_count": 26,
   "id": "004c4c9f-6e89-432c-a747-668d1ea54f9e",
   "metadata": {},
   "outputs": [
    {
     "name": "stdout",
     "output_type": "stream",
     "text": [
      "mean for ./data/bias/Bias_BIN1_20230424_031732.fits: 980.423\n",
      "mean for ./data/bias/Bias_BIN1_20230424_031823.fits: 980.209\n",
      "mean for ./data/bias/Bias_BIN1_20230424_031904.fits: 980.381\n",
      "mean for ./data/bias/Bias_BIN1_20230424_031946.fits: 980.619\n",
      "mean for ./data/bias/Bias_BIN1_20230424_032028.fits: 980.514\n",
      "mean for ./data/bias/Bias_BIN1_20230424_032109.fits: 980.559\n",
      "mean for ./data/bias/Bias_BIN1_20230424_032152.fits: 980.830\n"
     ]
    },
    {
     "name": "stderr",
     "output_type": "stream",
     "text": [
      "INFO:astropy:using the unit adu passed to the FITS reader instead of the unit adu in the FITS file.\n"
     ]
    },
    {
     "name": "stdout",
     "output_type": "stream",
     "text": [
      "INFO: using the unit adu passed to the FITS reader instead of the unit adu in the FITS file. [astropy.nddata.ccddata]\n",
      "mean for ./data/bias/combined_bias.fits: 980.505\n",
      "combined mean: 980.5052719468449\n"
     ]
    }
   ],
   "source": [
    "reduced_biases = ImageFileCollection(bias_dir).files_filtered(imagetyp='bias', include_path=True)\n",
    "for bias in reduced_biases:\n",
    "    mean = CCDData.read(bias, unit='adu').data.mean()\n",
    "    print(f'mean for {bias}: {mean:.3f}')\n",
    "    \n",
    "    \n",
    "combined_bias = CCDData.read(bias_dir + '/combined_bias.fits')\n",
    "print('combined mean: ' + str(combined_bias.data.mean()))"
   ]
  },
  {
   "cell_type": "markdown",
   "id": "665bcd92-d5d6-4aad-a1b7-a8dd4701c211",
   "metadata": {},
   "source": [
    "## 4. Define “overscan”\n",
    "\n",
    "An overscan is the covered portion of the CCD sensor. This feature is useful in removing variations in the bias on a frame-by-frame basis. Data from the overscan includes bias, read noise, and dark current.\n",
    "\n",
    "## 5. List your overscan parameters. (Where is the overscan on your images?)\n",
    "\n",
    "ARCSAT images have no overscan.\n",
    "\n",
    "## 6. Which filters do you have flat fields for? List the flat field file names for each filter that you need. Do you have more flats than you need? Confirm that your flat fields have the same binning as your data.\n",
    "\n",
    "Our project took flat fields for B and V filters. Both observation images and flats have 1x1 binning. The files include:"
   ]
  },
  {
   "cell_type": "code",
   "execution_count": null,
   "id": "a1618e01-3245-4f0e-a3ad-dee103fb8f17",
   "metadata": {},
   "outputs": [],
   "source": [
    "flats = ImageFileCollection(flat_dir)\n",
    "flats.summary['file', 'xbinning', 'ybinning']"
   ]
  },
  {
   "cell_type": "code",
   "execution_count": null,
   "id": "f4972763-3fa3-4092-a899-51dd825d375b",
   "metadata": {},
   "outputs": [],
   "source": [
    "tz_boo = ImageFileCollection(tzboo_dir)\n",
    "tz_boo.summary['file', 'xbinning', 'ybinning']"
   ]
  },
  {
   "cell_type": "code",
   "execution_count": null,
   "id": "145acd6a-7a1b-461d-b689-48303cadb806",
   "metadata": {},
   "outputs": [],
   "source": [
    "cc_com = ImageFileCollection(cccom_dir)\n",
    "cc_com.summary['file', 'xbinning', 'ybinning']"
   ]
  },
  {
   "cell_type": "markdown",
   "id": "91a1e17f-b90c-4668-ab62-4fc8b547c4bf",
   "metadata": {},
   "source": [
    "## 7. Why do we need flat fields for each filter we have used for observations?\n",
    "Flats involve reading data taken from a controlled source of light. They are taken to correct for visual artifacts like vignetting, dust on the CCD, etc. We need to make flat fields for each filter as the CCD sensor's response depends on the wavelength of incident photons.\n",
    "\n",
    "- BIAS SUBTRACTION AND FLAT FIELD NORMALIZATION SHOULD BE DONE ON EACH OF\n",
    "YOUR OBJECT IMAGE FILES. It is a good place to take a little time and develop a loop, or a\n",
    "small pseudo pipeline\n",
    "\n",
    "- To do: flat field normalization"
   ]
  },
  {
   "cell_type": "markdown",
   "id": "e862e75f-f637-4ca7-ac32-3026f88854d2",
   "metadata": {},
   "source": [
    "## 8. What drawbacks could exist from this method of sky subtraction?\n",
    "Determining the cutoff brightness for what pixel is considered a part of a star's light or the sky background brightness is not well-defined. If the cutoff brightness for the sky is too high, one might not account for all the light coming from a star. In the opposite case, too low of a cutoff brightness may overestimate the light coming from a star."
   ]
  },
  {
   "cell_type": "markdown",
   "id": "4006fd8a-fcab-4a22-b62d-20e01611bd0f",
   "metadata": {},
   "source": [
    "## 9. Why does sky subtraction matter?\n",
    "Sky subtraction matters because the contributions of light from the background sky can add to the counts of a star one intends to measure. Not accounting for the contributions due to the background sky can cause overestimations in the brightness of a star."
   ]
  },
  {
   "cell_type": "code",
   "execution_count": null,
   "id": "f2bb9702-f6f8-4a5e-a7b6-25371c7317b9",
   "metadata": {},
   "outputs": [],
   "source": []
  }
 ],
 "metadata": {
  "kernelspec": {
   "display_name": "Python 3 (ipykernel)",
   "language": "python",
   "name": "python3"
  },
  "language_info": {
   "codemirror_mode": {
    "name": "ipython",
    "version": 3
   },
   "file_extension": ".py",
   "mimetype": "text/x-python",
   "name": "python",
   "nbconvert_exporter": "python",
   "pygments_lexer": "ipython3",
   "version": "3.9.12"
  }
 },
 "nbformat": 4,
 "nbformat_minor": 5
}
