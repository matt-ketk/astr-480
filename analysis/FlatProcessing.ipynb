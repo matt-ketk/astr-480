{
 "cells": [
  {
   "cell_type": "code",
   "execution_count": 1,
   "id": "6314ce6f-3146-4eb3-ac32-ce75fa32f6b6",
   "metadata": {},
   "outputs": [],
   "source": [
    "from scipy.stats import norm\n",
    "import numpy as np\n",
    "import matplotlib.pyplot as plt\n",
    "\n",
    "from pathlib import Path\n",
    "from astropy.nddata import CCDData\n",
    "from astropy.io import fits\n",
    "from ccdproc import ImageFileCollection\n",
    "import ccdproc as ccdp\n",
    "\n",
    "from astropy.nddata import CCDData\n",
    "from astropy.stats import mad_std\n",
    "import astropy.units as u\n",
    "from convenience_functions import show_image\n",
    "\n",
    "# suppress warnings is not recommended :I\n",
    "import warnings\n",
    "warnings.filterwarnings(\"ignore\")"
   ]
  },
  {
   "cell_type": "markdown",
   "id": "8c40ccf7-30ba-4bed-9352-70ab4c4171ba",
   "metadata": {},
   "source": [
    "# Subtract Biases and Darks"
   ]
  },
  {
   "cell_type": "code",
   "execution_count": 2,
   "id": "1616298e-024e-49d1-bf2e-58880e4b1ab5",
   "metadata": {},
   "outputs": [],
   "source": [
    "bias_dir = './data/bias/'\n",
    "dark_dir = './data/dark/'\n",
    "flat_dir = './data/flat/'\n",
    "\n",
    "combined_bias = CCDData.read(bias_dir + 'combined_bias.fits')\n",
    "combined_dark = CCDData.read(dark_dir + 'combined_dark_900.000.fits')\n",
    "raw_V_flats = ImageFileCollection(flat_dir + 'V_raw')\n",
    "raw_V_flats = raw_V_flats.files_filtered(\n",
    "    include_path=True\n",
    ")\n",
    "\n",
    "for file_name in raw_V_flats:\n",
    "    ccd = CCDData.read(file_name, unit='adu')\n",
    "    processed = ccdp.subtract_bias(ccd, combined_bias)\n",
    "    processed = ccdp.subtract_dark(\n",
    "        processed,\n",
    "        combined_dark,\n",
    "        exposure_time='exptime',\n",
    "        exposure_unit=u.second,\n",
    "        scale=True\n",
    "    )\n",
    "    \n",
    "    name = file_name.split('/')[-1]\n",
    "    ccd.write(flat_dir + f'V_reduced/{name}', overwrite=True)"
   ]
  },
  {
   "cell_type": "markdown",
   "id": "23d40326-30be-462e-8ac6-120d9e658179",
   "metadata": {},
   "source": [
    "# Combine Flats"
   ]
  },
  {
   "cell_type": "code",
   "execution_count": 3,
   "id": "c424e391-424a-4397-b01f-260a565b1286",
   "metadata": {},
   "outputs": [
    {
     "name": "stderr",
     "output_type": "stream",
     "text": [
      "INFO:astropy:splitting each image into 4 chunks to limit memory usage to 350000000.0 bytes.\n"
     ]
    },
    {
     "name": "stdout",
     "output_type": "stream",
     "text": [
      "INFO: splitting each image into 4 chunks to limit memory usage to 350000000.0 bytes. [ccdproc.combiner]\n"
     ]
    }
   ],
   "source": [
    "reduced_V_flats = ImageFileCollection(flat_dir + 'V_reduced')\n",
    "\n",
    "def recip_median(a):\n",
    "    return 1 / np.median(a)\n",
    "\n",
    "combined_V_flat = ccdp.combine(\n",
    "    reduced_V_flats.files_filtered(include_path=True),\n",
    "    scale=recip_median,\n",
    "    sigma_clip=True,\n",
    "    sigma_clip_low_thresh=5,\n",
    "    sigma_clip_high_thresh=5,\n",
    "    sigma_clip_func=np.ma.median,\n",
    "    sigma_clip_dev_func=mad_std,\n",
    "    mem_limit=350e+6\n",
    ")\n",
    "\n",
    "combined_V_flat.meta['combined'] = True\n",
    "combined_V_flat.write(flat_dir + 'combined_V_flat.fits', overwrite=True)"
   ]
  },
  {
   "cell_type": "code",
   "execution_count": null,
   "id": "56b78efb-6183-45da-8e3c-9fb94841a374",
   "metadata": {},
   "outputs": [],
   "source": []
  }
 ],
 "metadata": {
  "kernelspec": {
   "display_name": "Python 3 (ipykernel)",
   "language": "python",
   "name": "python3"
  },
  "language_info": {
   "codemirror_mode": {
    "name": "ipython",
    "version": 3
   },
   "file_extension": ".py",
   "mimetype": "text/x-python",
   "name": "python",
   "nbconvert_exporter": "python",
   "pygments_lexer": "ipython3",
   "version": "3.9.12"
  }
 },
 "nbformat": 4,
 "nbformat_minor": 5
}
