{
 "cells": [
  {
   "cell_type": "code",
   "execution_count": 1,
   "id": "089324b1-c7be-46a1-93b5-eaab9b3ab5cb",
   "metadata": {},
   "outputs": [],
   "source": [
    "from scipy.stats import norm\n",
    "import numpy as np\n",
    "import matplotlib.pyplot as plt\n",
    "\n",
    "from pathlib import Path\n",
    "from astropy.nddata import CCDData\n",
    "from astropy.io import fits\n",
    "from ccdproc import ImageFileCollection\n",
    "import ccdproc as ccdp\n",
    "\n",
    "from astropy.nddata import CCDData\n",
    "from astropy.stats import mad_std\n",
    "import astropy.units as u\n",
    "from convenience_functions import show_image\n",
    "\n",
    "# suppress warnings is not recommended :I\n",
    "import warnings\n",
    "warnings.filterwarnings(\"ignore\")"
   ]
  },
  {
   "cell_type": "code",
   "execution_count": 2,
   "id": "5df90987-9780-424c-ba36-4c29366bde31",
   "metadata": {},
   "outputs": [],
   "source": [
    "bias_dir = './data/bias/'\n",
    "dark_dir = './data/dark/'\n",
    "flat_dir = './data/flat/'\n",
    "\n",
    "combined_bias = CCDData.read(bias_dir + 'combined_bias.fits')\n",
    "combined_dark = CCDData.read(dark_dir + 'combined_dark_900.000.fits')\n",
    "combined_V_flat = CCDData.read(flat_dir + 'combined_V_flat.fits')\n",
    "\n",
    "def process_images(raw_dir, reduced_dir):\n",
    "    raw_images = ImageFileCollection(raw_dir)\n",
    "    raw_images = raw_images.files_filtered(include_path=True)\n",
    "    \n",
    "    for file_name in raw_images:\n",
    "        raw_data = CCDData.read(file_name, unit='adu')\n",
    "        reduced = ccdp.subtract_bias(raw_data, combined_bias)\n",
    "        reduced = ccdp.subtract_dark(\n",
    "            reduced,\n",
    "            combined_dark,\n",
    "            exposure_time='exptime',\n",
    "            exposure_unit=u.second,\n",
    "            scale=True\n",
    "        )\n",
    "        reduced = ccdp.flat_correct(reduced, combined_V_flat)\n",
    "        reduced.data = reduced.data - np.median(reduced.data)\n",
    "        name = file_name.split('/')[-1]\n",
    "        reduced.write(reduced_dir + f'REDUCED_{name}', overwrite=True)"
   ]
  },
  {
   "cell_type": "code",
   "execution_count": 3,
   "id": "737a9316-1c34-496c-80df-db12baa16522",
   "metadata": {},
   "outputs": [],
   "source": [
    "raw_dir = './data/tz_boo/raw/'\n",
    "reduced_dir = './data/tz_boo/reduced/'\n",
    "\n",
    "process_images(raw_dir, reduced_dir)"
   ]
  },
  {
   "cell_type": "code",
   "execution_count": 4,
   "id": "e9ba33dd-7014-4818-9d83-f96abf568a5c",
   "metadata": {},
   "outputs": [],
   "source": [
    "raw_dir = './data/cc_com/raw/'\n",
    "reduced_dir = './data/cc_com/reduced/'\n",
    "\n",
    "process_images(raw_dir, reduced_dir)"
   ]
  },
  {
   "cell_type": "code",
   "execution_count": null,
   "id": "23e395e7-3ccb-4806-a95c-5b6d7151fbb9",
   "metadata": {},
   "outputs": [],
   "source": []
  }
 ],
 "metadata": {
  "kernelspec": {
   "display_name": "Python 3 (ipykernel)",
   "language": "python",
   "name": "python3"
  },
  "language_info": {
   "codemirror_mode": {
    "name": "ipython",
    "version": 3
   },
   "file_extension": ".py",
   "mimetype": "text/x-python",
   "name": "python",
   "nbconvert_exporter": "python",
   "pygments_lexer": "ipython3",
   "version": "3.9.12"
  }
 },
 "nbformat": 4,
 "nbformat_minor": 5
}
