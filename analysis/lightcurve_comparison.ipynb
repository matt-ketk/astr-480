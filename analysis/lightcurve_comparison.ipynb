{
 "cells": [
  {
   "cell_type": "markdown",
   "id": "1e277f33-0132-4ae6-8827-cf9870d49222",
   "metadata": {},
   "source": [
    "# Comparison of Light Curve Data\n",
    "$$m_x= -5 \\log_{100}(F/F_0)$$\n",
    "$$F/F_0 = 100^{-m_x / 5}$$"
   ]
  },
  {
   "cell_type": "markdown",
   "id": "5ff85a18-8464-4904-b11c-36f020bf1dda",
   "metadata": {},
   "source": [
    "## To-do\n",
    "1. read data\n",
    "2. convert to rel. flux\n",
    "3. normalize flux readings\n",
    "4. normalize julian dates\n",
    "4. plot with data we have\n"
   ]
  },
  {
   "cell_type": "code",
   "execution_count": 3,
   "id": "9a0b6fe9-d506-402c-8159-4d5cb8e20b89",
   "metadata": {},
   "outputs": [],
   "source": [
    "import numpy as np\n",
    "import matplotlib\n",
    "import matplotlib.pyplot as plt\n",
    "import pandas as pd\n",
    "from astropy import units as u\n",
    "from astropy.timeseries import BinnedTimeSeries"
   ]
  },
  {
   "cell_type": "code",
   "execution_count": 4,
   "id": "95f01e02-19d9-4327-841c-bed5ee041acb",
   "metadata": {},
   "outputs": [
    {
     "ename": "FileNotFoundError",
     "evalue": "[Errno 2] No such file or directory: './analysis/comparison-data/TZ_Boo.csv'",
     "output_type": "error",
     "traceback": [
      "\u001b[0;31m---------------------------------------------------------------------------\u001b[0m",
      "\u001b[0;31mFileNotFoundError\u001b[0m                         Traceback (most recent call last)",
      "Input \u001b[0;32mIn [4]\u001b[0m, in \u001b[0;36m<cell line: 2>\u001b[0;34m()\u001b[0m\n\u001b[1;32m      1\u001b[0m compare_dir \u001b[38;5;241m=\u001b[39m \u001b[38;5;124m'\u001b[39m\u001b[38;5;124m./analysis/comparison-data/\u001b[39m\u001b[38;5;124m'\u001b[39m\n\u001b[0;32m----> 2\u001b[0m tz_boo \u001b[38;5;241m=\u001b[39m \u001b[43mpd\u001b[49m\u001b[38;5;241;43m.\u001b[39;49m\u001b[43mread_csv\u001b[49m\u001b[43m(\u001b[49m\u001b[43mcompare_dir\u001b[49m\u001b[43m \u001b[49m\u001b[38;5;241;43m+\u001b[39;49m\u001b[43m \u001b[49m\u001b[38;5;124;43m'\u001b[39;49m\u001b[38;5;124;43mTZ_Boo.csv\u001b[39;49m\u001b[38;5;124;43m'\u001b[39;49m\u001b[43m)\u001b[49m\n\u001b[1;32m      3\u001b[0m cc_com \u001b[38;5;241m=\u001b[39m pd\u001b[38;5;241m.\u001b[39mread_csv(compare_dir \u001b[38;5;241m+\u001b[39m \u001b[38;5;124m'\u001b[39m\u001b[38;5;124mCC_Com.csv\u001b[39m\u001b[38;5;124m'\u001b[39m)\n",
      "File \u001b[0;32m~/anaconda3/lib/python3.9/site-packages/pandas/util/_decorators.py:311\u001b[0m, in \u001b[0;36mdeprecate_nonkeyword_arguments.<locals>.decorate.<locals>.wrapper\u001b[0;34m(*args, **kwargs)\u001b[0m\n\u001b[1;32m    305\u001b[0m \u001b[38;5;28;01mif\u001b[39;00m \u001b[38;5;28mlen\u001b[39m(args) \u001b[38;5;241m>\u001b[39m num_allow_args:\n\u001b[1;32m    306\u001b[0m     warnings\u001b[38;5;241m.\u001b[39mwarn(\n\u001b[1;32m    307\u001b[0m         msg\u001b[38;5;241m.\u001b[39mformat(arguments\u001b[38;5;241m=\u001b[39marguments),\n\u001b[1;32m    308\u001b[0m         \u001b[38;5;167;01mFutureWarning\u001b[39;00m,\n\u001b[1;32m    309\u001b[0m         stacklevel\u001b[38;5;241m=\u001b[39mstacklevel,\n\u001b[1;32m    310\u001b[0m     )\n\u001b[0;32m--> 311\u001b[0m \u001b[38;5;28;01mreturn\u001b[39;00m \u001b[43mfunc\u001b[49m\u001b[43m(\u001b[49m\u001b[38;5;241;43m*\u001b[39;49m\u001b[43margs\u001b[49m\u001b[43m,\u001b[49m\u001b[43m \u001b[49m\u001b[38;5;241;43m*\u001b[39;49m\u001b[38;5;241;43m*\u001b[39;49m\u001b[43mkwargs\u001b[49m\u001b[43m)\u001b[49m\n",
      "File \u001b[0;32m~/anaconda3/lib/python3.9/site-packages/pandas/io/parsers/readers.py:680\u001b[0m, in \u001b[0;36mread_csv\u001b[0;34m(filepath_or_buffer, sep, delimiter, header, names, index_col, usecols, squeeze, prefix, mangle_dupe_cols, dtype, engine, converters, true_values, false_values, skipinitialspace, skiprows, skipfooter, nrows, na_values, keep_default_na, na_filter, verbose, skip_blank_lines, parse_dates, infer_datetime_format, keep_date_col, date_parser, dayfirst, cache_dates, iterator, chunksize, compression, thousands, decimal, lineterminator, quotechar, quoting, doublequote, escapechar, comment, encoding, encoding_errors, dialect, error_bad_lines, warn_bad_lines, on_bad_lines, delim_whitespace, low_memory, memory_map, float_precision, storage_options)\u001b[0m\n\u001b[1;32m    665\u001b[0m kwds_defaults \u001b[38;5;241m=\u001b[39m _refine_defaults_read(\n\u001b[1;32m    666\u001b[0m     dialect,\n\u001b[1;32m    667\u001b[0m     delimiter,\n\u001b[0;32m   (...)\u001b[0m\n\u001b[1;32m    676\u001b[0m     defaults\u001b[38;5;241m=\u001b[39m{\u001b[38;5;124m\"\u001b[39m\u001b[38;5;124mdelimiter\u001b[39m\u001b[38;5;124m\"\u001b[39m: \u001b[38;5;124m\"\u001b[39m\u001b[38;5;124m,\u001b[39m\u001b[38;5;124m\"\u001b[39m},\n\u001b[1;32m    677\u001b[0m )\n\u001b[1;32m    678\u001b[0m kwds\u001b[38;5;241m.\u001b[39mupdate(kwds_defaults)\n\u001b[0;32m--> 680\u001b[0m \u001b[38;5;28;01mreturn\u001b[39;00m \u001b[43m_read\u001b[49m\u001b[43m(\u001b[49m\u001b[43mfilepath_or_buffer\u001b[49m\u001b[43m,\u001b[49m\u001b[43m \u001b[49m\u001b[43mkwds\u001b[49m\u001b[43m)\u001b[49m\n",
      "File \u001b[0;32m~/anaconda3/lib/python3.9/site-packages/pandas/io/parsers/readers.py:575\u001b[0m, in \u001b[0;36m_read\u001b[0;34m(filepath_or_buffer, kwds)\u001b[0m\n\u001b[1;32m    572\u001b[0m _validate_names(kwds\u001b[38;5;241m.\u001b[39mget(\u001b[38;5;124m\"\u001b[39m\u001b[38;5;124mnames\u001b[39m\u001b[38;5;124m\"\u001b[39m, \u001b[38;5;28;01mNone\u001b[39;00m))\n\u001b[1;32m    574\u001b[0m \u001b[38;5;66;03m# Create the parser.\u001b[39;00m\n\u001b[0;32m--> 575\u001b[0m parser \u001b[38;5;241m=\u001b[39m \u001b[43mTextFileReader\u001b[49m\u001b[43m(\u001b[49m\u001b[43mfilepath_or_buffer\u001b[49m\u001b[43m,\u001b[49m\u001b[43m \u001b[49m\u001b[38;5;241;43m*\u001b[39;49m\u001b[38;5;241;43m*\u001b[39;49m\u001b[43mkwds\u001b[49m\u001b[43m)\u001b[49m\n\u001b[1;32m    577\u001b[0m \u001b[38;5;28;01mif\u001b[39;00m chunksize \u001b[38;5;129;01mor\u001b[39;00m iterator:\n\u001b[1;32m    578\u001b[0m     \u001b[38;5;28;01mreturn\u001b[39;00m parser\n",
      "File \u001b[0;32m~/anaconda3/lib/python3.9/site-packages/pandas/io/parsers/readers.py:933\u001b[0m, in \u001b[0;36mTextFileReader.__init__\u001b[0;34m(self, f, engine, **kwds)\u001b[0m\n\u001b[1;32m    930\u001b[0m     \u001b[38;5;28mself\u001b[39m\u001b[38;5;241m.\u001b[39moptions[\u001b[38;5;124m\"\u001b[39m\u001b[38;5;124mhas_index_names\u001b[39m\u001b[38;5;124m\"\u001b[39m] \u001b[38;5;241m=\u001b[39m kwds[\u001b[38;5;124m\"\u001b[39m\u001b[38;5;124mhas_index_names\u001b[39m\u001b[38;5;124m\"\u001b[39m]\n\u001b[1;32m    932\u001b[0m \u001b[38;5;28mself\u001b[39m\u001b[38;5;241m.\u001b[39mhandles: IOHandles \u001b[38;5;241m|\u001b[39m \u001b[38;5;28;01mNone\u001b[39;00m \u001b[38;5;241m=\u001b[39m \u001b[38;5;28;01mNone\u001b[39;00m\n\u001b[0;32m--> 933\u001b[0m \u001b[38;5;28mself\u001b[39m\u001b[38;5;241m.\u001b[39m_engine \u001b[38;5;241m=\u001b[39m \u001b[38;5;28;43mself\u001b[39;49m\u001b[38;5;241;43m.\u001b[39;49m\u001b[43m_make_engine\u001b[49m\u001b[43m(\u001b[49m\u001b[43mf\u001b[49m\u001b[43m,\u001b[49m\u001b[43m \u001b[49m\u001b[38;5;28;43mself\u001b[39;49m\u001b[38;5;241;43m.\u001b[39;49m\u001b[43mengine\u001b[49m\u001b[43m)\u001b[49m\n",
      "File \u001b[0;32m~/anaconda3/lib/python3.9/site-packages/pandas/io/parsers/readers.py:1217\u001b[0m, in \u001b[0;36mTextFileReader._make_engine\u001b[0;34m(self, f, engine)\u001b[0m\n\u001b[1;32m   1213\u001b[0m     mode \u001b[38;5;241m=\u001b[39m \u001b[38;5;124m\"\u001b[39m\u001b[38;5;124mrb\u001b[39m\u001b[38;5;124m\"\u001b[39m\n\u001b[1;32m   1214\u001b[0m \u001b[38;5;66;03m# error: No overload variant of \"get_handle\" matches argument types\u001b[39;00m\n\u001b[1;32m   1215\u001b[0m \u001b[38;5;66;03m# \"Union[str, PathLike[str], ReadCsvBuffer[bytes], ReadCsvBuffer[str]]\"\u001b[39;00m\n\u001b[1;32m   1216\u001b[0m \u001b[38;5;66;03m# , \"str\", \"bool\", \"Any\", \"Any\", \"Any\", \"Any\", \"Any\"\u001b[39;00m\n\u001b[0;32m-> 1217\u001b[0m \u001b[38;5;28mself\u001b[39m\u001b[38;5;241m.\u001b[39mhandles \u001b[38;5;241m=\u001b[39m \u001b[43mget_handle\u001b[49m\u001b[43m(\u001b[49m\u001b[43m  \u001b[49m\u001b[38;5;66;43;03m# type: ignore[call-overload]\u001b[39;49;00m\n\u001b[1;32m   1218\u001b[0m \u001b[43m    \u001b[49m\u001b[43mf\u001b[49m\u001b[43m,\u001b[49m\n\u001b[1;32m   1219\u001b[0m \u001b[43m    \u001b[49m\u001b[43mmode\u001b[49m\u001b[43m,\u001b[49m\n\u001b[1;32m   1220\u001b[0m \u001b[43m    \u001b[49m\u001b[43mencoding\u001b[49m\u001b[38;5;241;43m=\u001b[39;49m\u001b[38;5;28;43mself\u001b[39;49m\u001b[38;5;241;43m.\u001b[39;49m\u001b[43moptions\u001b[49m\u001b[38;5;241;43m.\u001b[39;49m\u001b[43mget\u001b[49m\u001b[43m(\u001b[49m\u001b[38;5;124;43m\"\u001b[39;49m\u001b[38;5;124;43mencoding\u001b[39;49m\u001b[38;5;124;43m\"\u001b[39;49m\u001b[43m,\u001b[49m\u001b[43m \u001b[49m\u001b[38;5;28;43;01mNone\u001b[39;49;00m\u001b[43m)\u001b[49m\u001b[43m,\u001b[49m\n\u001b[1;32m   1221\u001b[0m \u001b[43m    \u001b[49m\u001b[43mcompression\u001b[49m\u001b[38;5;241;43m=\u001b[39;49m\u001b[38;5;28;43mself\u001b[39;49m\u001b[38;5;241;43m.\u001b[39;49m\u001b[43moptions\u001b[49m\u001b[38;5;241;43m.\u001b[39;49m\u001b[43mget\u001b[49m\u001b[43m(\u001b[49m\u001b[38;5;124;43m\"\u001b[39;49m\u001b[38;5;124;43mcompression\u001b[39;49m\u001b[38;5;124;43m\"\u001b[39;49m\u001b[43m,\u001b[49m\u001b[43m \u001b[49m\u001b[38;5;28;43;01mNone\u001b[39;49;00m\u001b[43m)\u001b[49m\u001b[43m,\u001b[49m\n\u001b[1;32m   1222\u001b[0m \u001b[43m    \u001b[49m\u001b[43mmemory_map\u001b[49m\u001b[38;5;241;43m=\u001b[39;49m\u001b[38;5;28;43mself\u001b[39;49m\u001b[38;5;241;43m.\u001b[39;49m\u001b[43moptions\u001b[49m\u001b[38;5;241;43m.\u001b[39;49m\u001b[43mget\u001b[49m\u001b[43m(\u001b[49m\u001b[38;5;124;43m\"\u001b[39;49m\u001b[38;5;124;43mmemory_map\u001b[39;49m\u001b[38;5;124;43m\"\u001b[39;49m\u001b[43m,\u001b[49m\u001b[43m \u001b[49m\u001b[38;5;28;43;01mFalse\u001b[39;49;00m\u001b[43m)\u001b[49m\u001b[43m,\u001b[49m\n\u001b[1;32m   1223\u001b[0m \u001b[43m    \u001b[49m\u001b[43mis_text\u001b[49m\u001b[38;5;241;43m=\u001b[39;49m\u001b[43mis_text\u001b[49m\u001b[43m,\u001b[49m\n\u001b[1;32m   1224\u001b[0m \u001b[43m    \u001b[49m\u001b[43merrors\u001b[49m\u001b[38;5;241;43m=\u001b[39;49m\u001b[38;5;28;43mself\u001b[39;49m\u001b[38;5;241;43m.\u001b[39;49m\u001b[43moptions\u001b[49m\u001b[38;5;241;43m.\u001b[39;49m\u001b[43mget\u001b[49m\u001b[43m(\u001b[49m\u001b[38;5;124;43m\"\u001b[39;49m\u001b[38;5;124;43mencoding_errors\u001b[39;49m\u001b[38;5;124;43m\"\u001b[39;49m\u001b[43m,\u001b[49m\u001b[43m \u001b[49m\u001b[38;5;124;43m\"\u001b[39;49m\u001b[38;5;124;43mstrict\u001b[39;49m\u001b[38;5;124;43m\"\u001b[39;49m\u001b[43m)\u001b[49m\u001b[43m,\u001b[49m\n\u001b[1;32m   1225\u001b[0m \u001b[43m    \u001b[49m\u001b[43mstorage_options\u001b[49m\u001b[38;5;241;43m=\u001b[39;49m\u001b[38;5;28;43mself\u001b[39;49m\u001b[38;5;241;43m.\u001b[39;49m\u001b[43moptions\u001b[49m\u001b[38;5;241;43m.\u001b[39;49m\u001b[43mget\u001b[49m\u001b[43m(\u001b[49m\u001b[38;5;124;43m\"\u001b[39;49m\u001b[38;5;124;43mstorage_options\u001b[39;49m\u001b[38;5;124;43m\"\u001b[39;49m\u001b[43m,\u001b[49m\u001b[43m \u001b[49m\u001b[38;5;28;43;01mNone\u001b[39;49;00m\u001b[43m)\u001b[49m\u001b[43m,\u001b[49m\n\u001b[1;32m   1226\u001b[0m \u001b[43m\u001b[49m\u001b[43m)\u001b[49m\n\u001b[1;32m   1227\u001b[0m \u001b[38;5;28;01massert\u001b[39;00m \u001b[38;5;28mself\u001b[39m\u001b[38;5;241m.\u001b[39mhandles \u001b[38;5;129;01mis\u001b[39;00m \u001b[38;5;129;01mnot\u001b[39;00m \u001b[38;5;28;01mNone\u001b[39;00m\n\u001b[1;32m   1228\u001b[0m f \u001b[38;5;241m=\u001b[39m \u001b[38;5;28mself\u001b[39m\u001b[38;5;241m.\u001b[39mhandles\u001b[38;5;241m.\u001b[39mhandle\n",
      "File \u001b[0;32m~/anaconda3/lib/python3.9/site-packages/pandas/io/common.py:789\u001b[0m, in \u001b[0;36mget_handle\u001b[0;34m(path_or_buf, mode, encoding, compression, memory_map, is_text, errors, storage_options)\u001b[0m\n\u001b[1;32m    784\u001b[0m \u001b[38;5;28;01melif\u001b[39;00m \u001b[38;5;28misinstance\u001b[39m(handle, \u001b[38;5;28mstr\u001b[39m):\n\u001b[1;32m    785\u001b[0m     \u001b[38;5;66;03m# Check whether the filename is to be opened in binary mode.\u001b[39;00m\n\u001b[1;32m    786\u001b[0m     \u001b[38;5;66;03m# Binary mode does not support 'encoding' and 'newline'.\u001b[39;00m\n\u001b[1;32m    787\u001b[0m     \u001b[38;5;28;01mif\u001b[39;00m ioargs\u001b[38;5;241m.\u001b[39mencoding \u001b[38;5;129;01mand\u001b[39;00m \u001b[38;5;124m\"\u001b[39m\u001b[38;5;124mb\u001b[39m\u001b[38;5;124m\"\u001b[39m \u001b[38;5;129;01mnot\u001b[39;00m \u001b[38;5;129;01min\u001b[39;00m ioargs\u001b[38;5;241m.\u001b[39mmode:\n\u001b[1;32m    788\u001b[0m         \u001b[38;5;66;03m# Encoding\u001b[39;00m\n\u001b[0;32m--> 789\u001b[0m         handle \u001b[38;5;241m=\u001b[39m \u001b[38;5;28;43mopen\u001b[39;49m\u001b[43m(\u001b[49m\n\u001b[1;32m    790\u001b[0m \u001b[43m            \u001b[49m\u001b[43mhandle\u001b[49m\u001b[43m,\u001b[49m\n\u001b[1;32m    791\u001b[0m \u001b[43m            \u001b[49m\u001b[43mioargs\u001b[49m\u001b[38;5;241;43m.\u001b[39;49m\u001b[43mmode\u001b[49m\u001b[43m,\u001b[49m\n\u001b[1;32m    792\u001b[0m \u001b[43m            \u001b[49m\u001b[43mencoding\u001b[49m\u001b[38;5;241;43m=\u001b[39;49m\u001b[43mioargs\u001b[49m\u001b[38;5;241;43m.\u001b[39;49m\u001b[43mencoding\u001b[49m\u001b[43m,\u001b[49m\n\u001b[1;32m    793\u001b[0m \u001b[43m            \u001b[49m\u001b[43merrors\u001b[49m\u001b[38;5;241;43m=\u001b[39;49m\u001b[43merrors\u001b[49m\u001b[43m,\u001b[49m\n\u001b[1;32m    794\u001b[0m \u001b[43m            \u001b[49m\u001b[43mnewline\u001b[49m\u001b[38;5;241;43m=\u001b[39;49m\u001b[38;5;124;43m\"\u001b[39;49m\u001b[38;5;124;43m\"\u001b[39;49m\u001b[43m,\u001b[49m\n\u001b[1;32m    795\u001b[0m \u001b[43m        \u001b[49m\u001b[43m)\u001b[49m\n\u001b[1;32m    796\u001b[0m     \u001b[38;5;28;01melse\u001b[39;00m:\n\u001b[1;32m    797\u001b[0m         \u001b[38;5;66;03m# Binary mode\u001b[39;00m\n\u001b[1;32m    798\u001b[0m         handle \u001b[38;5;241m=\u001b[39m \u001b[38;5;28mopen\u001b[39m(handle, ioargs\u001b[38;5;241m.\u001b[39mmode)\n",
      "\u001b[0;31mFileNotFoundError\u001b[0m: [Errno 2] No such file or directory: './analysis/comparison-data/TZ_Boo.csv'"
     ]
    }
   ],
   "source": [
    "compare_dir = './analysis/comparison-data/'\n",
    "tz_boo = pd.read_csv(compare_dir + 'TZ_Boo.csv')\n",
    "cc_com = pd.read_csv(compare_dir + 'CC_Com.csv')"
   ]
  },
  {
   "cell_type": "code",
   "execution_count": null,
   "id": "b064ddd2-c5f9-41f0-b2ef-2193bb0ab610",
   "metadata": {},
   "outputs": [],
   "source": [
    "def rel_flux(mag):\n",
    "    return 100 ** (-mag / 5)\n",
    "\n",
    "# process data and append to column\n",
    "\n",
    "def append_flux_column(df):\n",
    "    mag_column = df['V Band dm']\n",
    "    flux = rel_flux(mag_column)\n",
    "    flux = flux / flux.max()\n",
    "    df['V Band Rel Flux'] = flux\n",
    "    return df"
   ]
  },
  {
   "cell_type": "code",
   "execution_count": 68,
   "id": "d65b3bf1-59a7-4750-aca5-4bd9ace26d87",
   "metadata": {},
   "outputs": [
    {
     "data": {
      "text/html": [
       "<div>\n",
       "<style scoped>\n",
       "    .dataframe tbody tr th:only-of-type {\n",
       "        vertical-align: middle;\n",
       "    }\n",
       "\n",
       "    .dataframe tbody tr th {\n",
       "        vertical-align: top;\n",
       "    }\n",
       "\n",
       "    .dataframe thead th {\n",
       "        text-align: right;\n",
       "    }\n",
       "</style>\n",
       "<table border=\"1\" class=\"dataframe\">\n",
       "  <thead>\n",
       "    <tr style=\"text-align: right;\">\n",
       "      <th></th>\n",
       "      <th>HJD</th>\n",
       "      <th>V Band dm</th>\n",
       "      <th>V Band Rel Flux</th>\n",
       "    </tr>\n",
       "  </thead>\n",
       "  <tbody>\n",
       "    <tr>\n",
       "      <th>0</th>\n",
       "      <td>2455343.371</td>\n",
       "      <td>-0.468</td>\n",
       "      <td>1.000000</td>\n",
       "    </tr>\n",
       "    <tr>\n",
       "      <th>1</th>\n",
       "      <td>2455343.373</td>\n",
       "      <td>-0.454</td>\n",
       "      <td>0.987188</td>\n",
       "    </tr>\n",
       "    <tr>\n",
       "      <th>2</th>\n",
       "      <td>2455343.375</td>\n",
       "      <td>-0.433</td>\n",
       "      <td>0.968278</td>\n",
       "    </tr>\n",
       "    <tr>\n",
       "      <th>3</th>\n",
       "      <td>2455343.377</td>\n",
       "      <td>-0.422</td>\n",
       "      <td>0.958517</td>\n",
       "    </tr>\n",
       "    <tr>\n",
       "      <th>4</th>\n",
       "      <td>2455343.379</td>\n",
       "      <td>-0.422</td>\n",
       "      <td>0.958517</td>\n",
       "    </tr>\n",
       "    <tr>\n",
       "      <th>5</th>\n",
       "      <td>2455343.381</td>\n",
       "      <td>-0.411</td>\n",
       "      <td>0.948855</td>\n",
       "    </tr>\n",
       "    <tr>\n",
       "      <th>6</th>\n",
       "      <td>2455343.384</td>\n",
       "      <td>-0.395</td>\n",
       "      <td>0.934975</td>\n",
       "    </tr>\n",
       "    <tr>\n",
       "      <th>7</th>\n",
       "      <td>2455343.386</td>\n",
       "      <td>-0.380</td>\n",
       "      <td>0.922147</td>\n",
       "    </tr>\n",
       "    <tr>\n",
       "      <th>8</th>\n",
       "      <td>2455343.388</td>\n",
       "      <td>-0.368</td>\n",
       "      <td>0.912011</td>\n",
       "    </tr>\n",
       "    <tr>\n",
       "      <th>9</th>\n",
       "      <td>2455343.390</td>\n",
       "      <td>-0.353</td>\n",
       "      <td>0.899498</td>\n",
       "    </tr>\n",
       "    <tr>\n",
       "      <th>10</th>\n",
       "      <td>2455343.392</td>\n",
       "      <td>-0.339</td>\n",
       "      <td>0.887973</td>\n",
       "    </tr>\n",
       "    <tr>\n",
       "      <th>11</th>\n",
       "      <td>2455343.395</td>\n",
       "      <td>-0.325</td>\n",
       "      <td>0.876597</td>\n",
       "    </tr>\n",
       "  </tbody>\n",
       "</table>\n",
       "</div>"
      ],
      "text/plain": [
       "            HJD  V Band dm  V Band Rel Flux\n",
       "0   2455343.371     -0.468         1.000000\n",
       "1   2455343.373     -0.454         0.987188\n",
       "2   2455343.375     -0.433         0.968278\n",
       "3   2455343.377     -0.422         0.958517\n",
       "4   2455343.379     -0.422         0.958517\n",
       "5   2455343.381     -0.411         0.948855\n",
       "6   2455343.384     -0.395         0.934975\n",
       "7   2455343.386     -0.380         0.922147\n",
       "8   2455343.388     -0.368         0.912011\n",
       "9   2455343.390     -0.353         0.899498\n",
       "10  2455343.392     -0.339         0.887973\n",
       "11  2455343.395     -0.325         0.876597"
      ]
     },
     "execution_count": 68,
     "metadata": {},
     "output_type": "execute_result"
    }
   ],
   "source": [
    "append_flux_column(tz_boo)"
   ]
  },
  {
   "cell_type": "code",
   "execution_count": 69,
   "id": "76b9f944-6a25-42ca-922c-b880a0549410",
   "metadata": {},
   "outputs": [
    {
     "data": {
      "text/html": [
       "<div>\n",
       "<style scoped>\n",
       "    .dataframe tbody tr th:only-of-type {\n",
       "        vertical-align: middle;\n",
       "    }\n",
       "\n",
       "    .dataframe tbody tr th {\n",
       "        vertical-align: top;\n",
       "    }\n",
       "\n",
       "    .dataframe thead th {\n",
       "        text-align: right;\n",
       "    }\n",
       "</style>\n",
       "<table border=\"1\" class=\"dataframe\">\n",
       "  <thead>\n",
       "    <tr style=\"text-align: right;\">\n",
       "      <th></th>\n",
       "      <th>HJD</th>\n",
       "      <th>V Band dm</th>\n",
       "      <th>V Band Rel Flux</th>\n",
       "    </tr>\n",
       "  </thead>\n",
       "  <tbody>\n",
       "    <tr>\n",
       "      <th>0</th>\n",
       "      <td>57868.62375</td>\n",
       "      <td>0.230</td>\n",
       "      <td>0.088308</td>\n",
       "    </tr>\n",
       "    <tr>\n",
       "      <th>1</th>\n",
       "      <td>57868.62473</td>\n",
       "      <td>0.191</td>\n",
       "      <td>0.091538</td>\n",
       "    </tr>\n",
       "    <tr>\n",
       "      <th>2</th>\n",
       "      <td>57868.62570</td>\n",
       "      <td>0.153</td>\n",
       "      <td>0.094798</td>\n",
       "    </tr>\n",
       "    <tr>\n",
       "      <th>3</th>\n",
       "      <td>58590.99775</td>\n",
       "      <td>-0.206</td>\n",
       "      <td>0.131947</td>\n",
       "    </tr>\n",
       "    <tr>\n",
       "      <th>4</th>\n",
       "      <td>58591.00543</td>\n",
       "      <td>-0.090</td>\n",
       "      <td>0.118577</td>\n",
       "    </tr>\n",
       "    <tr>\n",
       "      <th>5</th>\n",
       "      <td>58591.00652</td>\n",
       "      <td>-0.058</td>\n",
       "      <td>0.115133</td>\n",
       "    </tr>\n",
       "    <tr>\n",
       "      <th>6</th>\n",
       "      <td>58849.28544</td>\n",
       "      <td>-2.403</td>\n",
       "      <td>0.998160</td>\n",
       "    </tr>\n",
       "    <tr>\n",
       "      <th>7</th>\n",
       "      <td>58849.28606</td>\n",
       "      <td>-2.405</td>\n",
       "      <td>1.000000</td>\n",
       "    </tr>\n",
       "    <tr>\n",
       "      <th>8</th>\n",
       "      <td>58849.28667</td>\n",
       "      <td>-2.402</td>\n",
       "      <td>0.997241</td>\n",
       "    </tr>\n",
       "    <tr>\n",
       "      <th>9</th>\n",
       "      <td>58873.53431</td>\n",
       "      <td>-0.237</td>\n",
       "      <td>0.135769</td>\n",
       "    </tr>\n",
       "    <tr>\n",
       "      <th>10</th>\n",
       "      <td>58873.53545</td>\n",
       "      <td>-0.257</td>\n",
       "      <td>0.138293</td>\n",
       "    </tr>\n",
       "    <tr>\n",
       "      <th>11</th>\n",
       "      <td>58873.53659</td>\n",
       "      <td>-0.267</td>\n",
       "      <td>0.139573</td>\n",
       "    </tr>\n",
       "  </tbody>\n",
       "</table>\n",
       "</div>"
      ],
      "text/plain": [
       "            HJD  V Band dm  V Band Rel Flux\n",
       "0   57868.62375      0.230         0.088308\n",
       "1   57868.62473      0.191         0.091538\n",
       "2   57868.62570      0.153         0.094798\n",
       "3   58590.99775     -0.206         0.131947\n",
       "4   58591.00543     -0.090         0.118577\n",
       "5   58591.00652     -0.058         0.115133\n",
       "6   58849.28544     -2.403         0.998160\n",
       "7   58849.28606     -2.405         1.000000\n",
       "8   58849.28667     -2.402         0.997241\n",
       "9   58873.53431     -0.237         0.135769\n",
       "10  58873.53545     -0.257         0.138293\n",
       "11  58873.53659     -0.267         0.139573"
      ]
     },
     "execution_count": 69,
     "metadata": {},
     "output_type": "execute_result"
    }
   ],
   "source": [
    "append_flux_column(cc_com)"
   ]
  },
  {
   "cell_type": "code",
   "execution_count": 70,
   "id": "d5e22d6e-a6f3-43ee-93a2-3d45c4cc9fd5",
   "metadata": {},
   "outputs": [
    {
     "data": {
      "text/plain": [
       "[<matplotlib.lines.Line2D at 0x7f759e5be6d0>]"
      ]
     },
     "execution_count": 70,
     "metadata": {},
     "output_type": "execute_result"
    },
    {
     "data": {
      "image/png": "[encoded data removed]",
      "text/plain": [
       "<Figure size 432x288 with 1 Axes>"
      ]
     },
     "metadata": {
      "needs_background": "light"
     },
     "output_type": "display_data"
    }
   ],
   "source": [
    "our_cc = BinnedTimeSeries.read(\n",
    "    './analysis/results/cccom_results.csv',\n",
    "    time_bin_start_column='time_bin_start',\n",
    "    time_bin_size_column='time_bin_size',\n",
    "    time_bin_size_unit=u.s\n",
    ")\n",
    "our_jd_cc = our_cc.time_bin_start.jd - our_cc.time_bin_start.jd.min()\n",
    "plt.plot(our_jd_cc, our_cc['AP flux'] / our_cc['AP flux'].max(), 'r.', markersize=4, label='AP rel. flux')\n",
    "# plt.plot(cc_com['HJD'] - cc_com['HJD'].min(), cc_com['V Band Rel Flux'], '.', markersize=4)"
   ]
  },
  {
   "cell_type": "code",
   "execution_count": 13,
   "id": "6f5d9584-4d36-4dde-b59c-244908feee8a",
   "metadata": {},
   "outputs": [
    {
     "data": {
      "text/plain": [
       "[<matplotlib.lines.Line2D at 0x7f0d3d545d00>]"
      ]
     },
     "execution_count": 13,
     "metadata": {},
     "output_type": "execute_result"
    },
    {
     "data": {
      "image/png": "[encoded data removed]",
      "text/plain": [
       "<Figure size 432x288 with 1 Axes>"
      ]
     },
     "metadata": {
      "needs_background": "light"
     },
     "output_type": "display_data"
    }
   ],
   "source": [
    "our_tz = BinnedTimeSeries.read(\n",
    "    './results/tzboo_results.csv',\n",
    "    time_bin_start_column='time_bin_start',\n",
    "    time_bin_size_column='time_bin_size',\n",
    "    time_bin_size_unit=u.s\n",
    ")\n",
    "our_jd_tz = our_tz.time_bin_start.jd - our_tz.time_bin_start.jd.min()\n",
    "plt.plot(our_jd_tz, our_tz['AP flux'], 'r.', markersize=4, label='AP rel. flux')\n",
    "# plt.plot(cc_com['HJD'] - cc_com['HJD'].min(), cc_com['V Band Rel Flux'], '.', markersize=4)"
   ]
  },
  {
   "cell_type": "markdown",
   "id": "9f232a2e-0b7a-4caf-8675-425d5f84c8e3",
   "metadata": {},
   "source": [
    "$$\\displaystyle - \\frac{\\phi^{2} a}{2} - \\phi a b x - \\frac{a b^{2} x^{2}}{2} + a$$\n",
    "- $a^\\prime = -ab^2 / 2$\n",
    "- $b^\\prime = -\\phi a b$\n",
    "- $c^\\prime = a(1-\\phi^2/2)$"
   ]
  },
  {
   "cell_type": "code",
   "execution_count": 95,
   "id": "ce9c5e0f-b00c-4a79-ac6f-27fe8d22edf5",
   "metadata": {},
   "outputs": [
    {
     "data": {
      "text/latex": [
       "$\\displaystyle - \\frac{\\phi^{2} a}{2} - \\phi a b x - \\frac{a b^{2} x^{2}}{2} + a$"
      ],
      "text/plain": [
       "-\\phi**2*a/2 - \\phi*a*b*x - a*b**2*x**2/2 + a"
      ]
     },
     "execution_count": 95,
     "metadata": {},
     "output_type": "execute_result"
    }
   ],
   "source": [
    "from sympy import *\n",
    "a, b, x, phi = symbols(r'a b x \\phi')\n",
    "\n",
    "expr = a * (1 - (b * x + phi) ** 2 / 2)\n",
    "expr.expand()"
   ]
  },
  {
   "cell_type": "code",
   "execution_count": 15,
   "id": "86bde8fe-68a6-4d90-aa35-cdebcd16a8ce",
   "metadata": {},
   "outputs": [
    {
     "name": "stdout",
     "output_type": "stream",
     "text": [
      "Parameters([('a', <Parameter 'a', value=-69.1035476631917, bounds=[-inf:inf]>), ('b', <Parameter 'b', value=5.335324996418381, bounds=[-inf:inf]>), ('c', <Parameter 'c', value=0.8910592917421547, bounds=[-inf:inf]>)])\n"
     ]
    },
    {
     "data": {
      "text/html": [
       "<table><tr><th> name </th><th> value </th><th> standard error </th><th> relative error </th><th> initial value </th><th> min </th><th> max </th><th> vary </th></tr><tr><td> a </td><td> -69.1035477 </td><td>  7.38807346 </td><td> (10.69%) </td><td> -69.1035476631917 </td><td>        -inf </td><td>         inf </td><td> True </td></tr><tr><td> b </td><td>  5.33532500 </td><td>  0.64259541 </td><td> (12.04%) </td><td> 5.335324996418381 </td><td>        -inf </td><td>         inf </td><td> True </td></tr><tr><td> c </td><td>  0.89105929 </td><td>  0.01007611 </td><td> (1.13%) </td><td> 0.8910592917421547 </td><td>        -inf </td><td>         inf </td><td> True </td></tr></table>"
      ],
      "text/plain": [
       "Parameters([('a', <Parameter 'a', value=-69.1035476631917 +/- 7.39, bounds=[-inf:inf]>), ('b', <Parameter 'b', value=5.335324996418381 +/- 0.643, bounds=[-inf:inf]>), ('c', <Parameter 'c', value=0.8910592917421547 +/- 0.0101, bounds=[-inf:inf]>)])"
      ]
     },
     "execution_count": 15,
     "metadata": {},
     "output_type": "execute_result"
    }
   ],
   "source": [
    "from lmfit.models import SineModel, QuadraticModel, Model\n",
    "\n",
    "our_tz = BinnedTimeSeries.read(\n",
    "    './results/tzboo_results.csv',\n",
    "    time_bin_start_column='time_bin_start',\n",
    "    time_bin_size_column='time_bin_size',\n",
    "    time_bin_size_unit=u.s\n",
    ")\n",
    "\n",
    "our_jd_tz = our_tz.time_bin_start.jd - our_tz.time_bin_start.jd.min()\n",
    "\n",
    "def second_order_cos(x, a, b, phi):\n",
    "    return a * (1 - (b * x + phi) ** 2 / 2)\n",
    "\n",
    "quad = QuadraticModel()\n",
    "# quad = Model(second_order_cos)\n",
    "rel_flux = our_tz['AP flux'] / our_tz['AP flux'].max()\n",
    "param_guess = quad.guess(rel_flux, x=our_jd_tz)\n",
    "print(param_guess)\n",
    "quad_fit = quad.fit(rel_flux, param_guess, x=our_jd_tz)\n",
    "# result = quad.fit(rel_flux, x=our_jd, a=5, b=5, phi=5)\n",
    "# result.params['a'].value\n",
    "quad_fit.params"
   ]
  },
  {
   "cell_type": "code",
   "execution_count": 16,
   "id": "19af15ad-491d-4d8a-aac0-6d9fa131b057",
   "metadata": {},
   "outputs": [
    {
     "data": {
      "text/plain": [
       "<matplotlib.collections.PathCollection at 0x7f0d41908df0>"
      ]
     },
     "execution_count": 16,
     "metadata": {},
     "output_type": "execute_result"
    },
    {
     "data": {
      "image/png": "[encoded data removed]",
      "text/plain": [
       "<Figure size 432x288 with 1 Axes>"
      ]
     },
     "metadata": {
      "needs_background": "light"
     },
     "output_type": "display_data"
    }
   ],
   "source": [
    "fit_domain = np.linspace(our_jd_tz.min(), our_jd_tz.max(), 100)\n",
    "plt.plot(fit_domain, quad_fit.eval(x=fit_domain))\n",
    "plt.scatter(our_jd_tz, rel_flux)"
   ]
  },
  {
   "cell_type": "code",
   "execution_count": 24,
   "id": "9584fc1a-686d-4d9b-8f74-231a420ea123",
   "metadata": {},
   "outputs": [
    {
     "data": {
      "text/html": [
       "<table><tr><th> name </th><th> value </th><th> standard error </th><th> relative error </th><th> initial value </th><th> min </th><th> max </th><th> vary </th></tr><tr><td> a </td><td>  32.0760171 </td><td>  0.00000000 </td><td> (0.00%) </td><td> 32.07601712882609 </td><td>        -inf </td><td>         inf </td><td> True </td></tr><tr><td> b </td><td> -3.28070417 </td><td>  0.00000000 </td><td> (0.00%) </td><td> -3.2807041671743264 </td><td>        -inf </td><td>         inf </td><td> True </td></tr><tr><td> c </td><td>  1.00000000 </td><td>  0.00000000 </td><td> (0.00%) </td><td> 0.9999999999999997 </td><td>        -inf </td><td>         inf </td><td> True </td></tr></table>"
      ],
      "text/plain": [
       "Parameters([('a', <Parameter 'a', value=32.076017128826145 +/- 0, bounds=[-inf:inf]>), ('b', <Parameter 'b', value=-3.280704167174345 +/- 0, bounds=[-inf:inf]>), ('c', <Parameter 'c', value=1.0 +/- 0, bounds=[-inf:inf]>)])"
      ]
     },
     "execution_count": 24,
     "metadata": {},
     "output_type": "execute_result"
    }
   ],
   "source": [
    "from lmfit.models import SineModel, QuadraticModel, Model\n",
    "\n",
    "our_cc = BinnedTimeSeries.read(\n",
    "    './results/cccom_results.csv',\n",
    "    time_bin_start_column='time_bin_start',\n",
    "    time_bin_size_column='time_bin_size',\n",
    "    time_bin_size_unit=u.s\n",
    ")\n",
    "\n",
    "our_jd_cc = our_cc.time_bin_start.jd - our_cc.time_bin_start.jd.min()\n",
    "fit_domain = np.linspace(our_jd_cc.min(), our_jd_cc.max(), 100)\n",
    "plt.plot(fit_domain, quad_fit.eval(x=fit_domain))\n",
    "plt.scatter(our_jd_cc, rel_flux)\n",
    "def second_order_cos(x, a, b, phi):\n",
    "    return a * (1 - (b * x + phi) ** 2 / 2)\n",
    "\n",
    "quad = QuadraticModel()\n",
    "# quad = Model(second_order_cos)\n",
    "rel_flux = our_cc['AP flux'] / our_cc['AP flux'].max()\n",
    "param_guess = quad.guess(rel_flux, x=our_jd_cc)\n",
    "quad_fit = quad.fit(rel_flux, param_guess, x=our_jd_cc)\n",
    "# result = quad.fit(rel_flux, x=our_jd, a=5, b=5, phi=5)\n",
    "# result.params['a'].value\n",
    "quad_fit.params"
   ]
  },
  {
   "cell_type": "code",
   "execution_count": 25,
   "id": "b10395f7-a77b-43ea-b6cf-25857763a457",
   "metadata": {},
   "outputs": [
    {
     "data": {
      "text/plain": [
       "<matplotlib.collections.PathCollection at 0x7f0d3b3bed90>"
      ]
     },
     "execution_count": 25,
     "metadata": {},
     "output_type": "execute_result"
    },
    {
     "data": {
      "image/png": "[encoded data removed]",
      "text/plain": [
       "<Figure size 432x288 with 1 Axes>"
      ]
     },
     "metadata": {
      "needs_background": "light"
     },
     "output_type": "display_data"
    }
   ],
   "source": [
    "fit_domain = np.linspace(our_jd_cc.min(), our_jd_cc.max(), 100)\n",
    "plt.plot(fit_domain, quad_fit.eval(x=fit_domain))\n",
    "plt.scatter(our_jd_cc, rel_flux)"
   ]
  },
  {
   "cell_type": "code",
   "execution_count": 10,
   "id": "f240ab59-aee5-4668-be2b-28a18e10b4ca",
   "metadata": {},
   "outputs": [
    {
     "data": {
      "text/plain": [
       "0.7508431425233466"
      ]
     },
     "execution_count": 10,
     "metadata": {},
     "output_type": "execute_result"
    }
   ],
   "source": [
    "a = quad_fit.params['a'].value\n",
    "b = quad_fit.params['b'].value\n",
    "c = quad_fit.params['c'].value\n",
    "period = 2 * np.pi / np.sqrt(np.abs(2 * a / (b ** 2 / (4 * a) - c)))\n",
    "period"
   ]
  },
  {
   "cell_type": "code",
   "execution_count": 93,
   "id": "b57f4726-41bb-409b-a866-cbcda99116fe",
   "metadata": {},
   "outputs": [
    {
     "data": {
      "text/plain": [
       "<matplotlib.collections.PathCollection at 0x7f7579164ca0>"
      ]
     },
     "execution_count": 93,
     "metadata": {},
     "output_type": "execute_result"
    },
    {
     "data": {
      "image/png": "[encoded data removed]",
      "text/plain": [
       "<Figure size 432x288 with 1 Axes>"
      ]
     },
     "metadata": {
      "needs_background": "light"
     },
     "output_type": "display_data"
    }
   ],
   "source": [
    "sine = SineModel()\n",
    "sine_guess = sine.guess(rel_flux, x=our_jd)\n",
    "sine_fit = sine.fit(rel_flux, sine_guess, x=our_jd)\n",
    "fit_domain = np.linspace(our_jd.min(), our_jd.max(), 100)\n",
    "plt.plot(fit_domain, sine_fit.eval(x=fit_domain))\n",
    "plt.scatter(our_jd, rel_flux)"
   ]
  },
  {
   "cell_type": "markdown",
   "id": "69a66337-6961-444d-8def-5b771dd06aab",
   "metadata": {},
   "source": [
    "## Pipeline: Apply taylor expansion of sinusoid fit curve and save statistics to a file"
   ]
  },
  {
   "cell_type": "code",
   "execution_count": 26,
   "id": "ca43b4c7-a69a-4d80-a766-40c141f63178",
   "metadata": {},
   "outputs": [],
   "source": [
    "from lmfit.models import SineModel, QuadraticModel, Model\n",
    "import pandas as pd\n",
    "\n",
    "def taylor_fit(data_path, results_path):\n",
    "    time_series = BinnedTimeSeries.read(\n",
    "        data_path,\n",
    "        time_bin_start_column='time_bin_start',\n",
    "        time_bin_size_column='time_bin_size',\n",
    "        time_bin_size_unit=u.s\n",
    "    )\n",
    "    \n",
    "    quad = QuadraticModel()\n",
    "    time_domain = time_series.time_bin_start.jd - time_series.time_bin_start.jd.min()\n",
    "    rel_flux = time_series['AP flux'] / time_series['AP flux'].max()\n",
    "    param_guess = quad.guess(rel_flux, x=time_domain)\n",
    "    quad_fit = quad.fit(rel_flux, param_guess, x=time_domain)\n",
    "    \n",
    "    a = quad_fit.params['a'].value\n",
    "    b = quad_fit.params['b'].value\n",
    "    c = quad_fit.params['c'].value\n",
    "    # period = 2 * np.pi / np.sqrt(np.abs(2 * a / (b ** 2 / (4 * a) - c)))\n",
    "    period = np.sqrt(np.abs(np.pi ** 2 / a))\n",
    "    \n",
    "    results = pd.DataFrame({\n",
    "        'a' : [a],\n",
    "        'b' : [b],\n",
    "        'c' : [c],\n",
    "        'period' : [period]\n",
    "    })\n",
    "    \n",
    "    results.to_csv(results_path)\n",
    "    return results"
   ]
  },
  {
   "cell_type": "code",
   "execution_count": 27,
   "id": "6c3de315-e78d-4093-93a3-4a7feccaf0ca",
   "metadata": {},
   "outputs": [
    {
     "data": {
      "text/html": [
       "<div>\n",
       "<style scoped>\n",
       "    .dataframe tbody tr th:only-of-type {\n",
       "        vertical-align: middle;\n",
       "    }\n",
       "\n",
       "    .dataframe tbody tr th {\n",
       "        vertical-align: top;\n",
       "    }\n",
       "\n",
       "    .dataframe thead th {\n",
       "        text-align: right;\n",
       "    }\n",
       "</style>\n",
       "<table border=\"1\" class=\"dataframe\">\n",
       "  <thead>\n",
       "    <tr style=\"text-align: right;\">\n",
       "      <th></th>\n",
       "      <th>a</th>\n",
       "      <th>b</th>\n",
       "      <th>c</th>\n",
       "      <th>period</th>\n",
       "    </tr>\n",
       "  </thead>\n",
       "  <tbody>\n",
       "    <tr>\n",
       "      <th>0</th>\n",
       "      <td>-72.571828</td>\n",
       "      <td>5.642695</td>\n",
       "      <td>0.887929</td>\n",
       "      <td>0.368779</td>\n",
       "    </tr>\n",
       "  </tbody>\n",
       "</table>\n",
       "</div>"
      ],
      "text/plain": [
       "           a         b         c    period\n",
       "0 -72.571828  5.642695  0.887929  0.368779"
      ]
     },
     "execution_count": 27,
     "metadata": {},
     "output_type": "execute_result"
    }
   ],
   "source": [
    "tz_fit_params = taylor_fit('./results/tzboo_results.csv', './results/tz_fit_params.csv')\n",
    "tz_fit_params"
   ]
  },
  {
   "cell_type": "code",
   "execution_count": 28,
   "id": "4027d6d2-8c35-4b20-8cd7-d2978f014015",
   "metadata": {},
   "outputs": [
    {
     "data": {
      "text/html": [
       "<div>\n",
       "<style scoped>\n",
       "    .dataframe tbody tr th:only-of-type {\n",
       "        vertical-align: middle;\n",
       "    }\n",
       "\n",
       "    .dataframe tbody tr th {\n",
       "        vertical-align: top;\n",
       "    }\n",
       "\n",
       "    .dataframe thead th {\n",
       "        text-align: right;\n",
       "    }\n",
       "</style>\n",
       "<table border=\"1\" class=\"dataframe\">\n",
       "  <thead>\n",
       "    <tr style=\"text-align: right;\">\n",
       "      <th></th>\n",
       "      <th>a</th>\n",
       "      <th>b</th>\n",
       "      <th>c</th>\n",
       "      <th>period</th>\n",
       "    </tr>\n",
       "  </thead>\n",
       "  <tbody>\n",
       "    <tr>\n",
       "      <th>0</th>\n",
       "      <td>-114.054855</td>\n",
       "      <td>6.67947</td>\n",
       "      <td>0.914525</td>\n",
       "      <td>0.294166</td>\n",
       "    </tr>\n",
       "  </tbody>\n",
       "</table>\n",
       "</div>"
      ],
      "text/plain": [
       "            a        b         c    period\n",
       "0 -114.054855  6.67947  0.914525  0.294166"
      ]
     },
     "execution_count": 28,
     "metadata": {},
     "output_type": "execute_result"
    }
   ],
   "source": [
    "cc_fit_params = taylor_fit('./results/cccom_results.csv', './results/cc_fit_params.csv')\n",
    "cc_fit_params"
   ]
  },
  {
   "cell_type": "code",
   "execution_count": null,
   "id": "20592b53-44b0-40d0-a6db-80bb23f9026a",
   "metadata": {},
   "outputs": [],
   "source": []
  }
 ],
 "metadata": {
  "kernelspec": {
   "display_name": "Python 3 (ipykernel)",
   "language": "python",
   "name": "python3"
  },
  "language_info": {
   "codemirror_mode": {
    "name": "ipython",
    "version": 3
   },
   "file_extension": ".py",
   "mimetype": "text/x-python",
   "name": "python",
   "nbconvert_exporter": "python",
   "pygments_lexer": "ipython3",
   "version": "3.9.12"
  }
 },
 "nbformat": 4,
 "nbformat_minor": 5
}
