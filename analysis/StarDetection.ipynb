{
 "cells": [
  {
   "cell_type": "code",
   "execution_count": 1,
   "id": "4984c7cd-b4fe-4ec3-a9ea-7f4cb15c0c82",
   "metadata": {},
   "outputs": [],
   "source": [
    "from astropy.stats import sigma_clipped_stats\n",
    "from photutils.datasets import load_star_image\n",
    "from photutils.detection import DAOStarFinder\n",
    "# from photutils.aperture import aperture_photometry, CircularAperture\n",
    "\n",
    "from scipy.stats import norm\n",
    "import numpy as np\n",
    "import matplotlib.pyplot as plt\n",
    "import matplotlib\n",
    "\n",
    "from pathlib import Path\n",
    "from astropy.nddata import CCDData\n",
    "from astropy.io import fits\n",
    "from ccdproc import ImageFileCollection\n",
    "import ccdproc as ccdp\n",
    "\n",
    "from astropy.nddata import CCDData\n",
    "from astropy.stats import mad_std\n",
    "import astropy.units as u\n",
    "from convenience_functions import show_image\n",
    "from astropy.timeseries import BinnedTimeSeries\n",
    "\n",
    "# suppress warnings is not recommended :I\n",
    "import warnings\n",
    "warnings.filterwarnings(\"ignore\")"
   ]
  },
  {
   "cell_type": "code",
   "execution_count": 2,
   "id": "d88229a5-3e85-4d75-98a1-1667875a28f5",
   "metadata": {},
   "outputs": [],
   "source": [
    "matplotlib.rcParams['figure.dpi'] = 200\n",
    "matplotlib.rcParams['figure.figsize'] = (12, 12)"
   ]
  },
  {
   "cell_type": "code",
   "execution_count": 3,
   "id": "06b9041e-058b-4f8a-af6f-738b2a025c02",
   "metadata": {},
   "outputs": [],
   "source": [
    "cc_com_reduced = './data/cc_com/reduced/'\n",
    "tz_boo_reduced = './data/tz_boo/reduced/'\n",
    "\n",
    "def get_fluxes(images_dir, image_dim=(3056, 3056), r=50.0):\n",
    "    images = ImageFileCollection(images_dir)\n",
    "    images = images.files_filtered(include_path=True)\n",
    "    \n",
    "    mask = np.ones(image_dim, dtype=bool)\n",
    "    mask[1400:1600, 1400:1600] = False\n",
    "    \n",
    "    timestamps = []\n",
    "    xcentroids = []\n",
    "    ycentroids = []\n",
    "    \n",
    "    DAO_fluxes = []\n",
    "    # PSF_fluxes = []\n",
    "    for i, path in np.ndenumerate(images):\n",
    "        # print(path)\n",
    "        image = CCDData.read(path)\n",
    "        mean, median, stdev = sigma_clipped_stats(image.data, sigma=3.0)\n",
    "    \n",
    "        daofind = DAOStarFinder(fwhm=3.0, threshold=5.0*stdev)\n",
    "        sources = daofind(image.data - median, mask=mask)\n",
    "        image.header['DAO-FLUX'] = sources[0]['flux']\n",
    "        \n",
    "        x_centroid = sources[0]['xcentroid']\n",
    "        y_centroid = sources[0]['ycentroid']\n",
    "        image.header['X-CENTROID'] = x_centroid\n",
    "        image.header['Y-CENTROID'] = y_centroid\n",
    "        xcentroids.append(x_centroid)\n",
    "        ycentroids.append(y_centroid)\n",
    "        \n",
    "        timestamps.append(image.header['DATE-OBS'])\n",
    "        \n",
    "        # aperture_flux\n",
    "        # position = np.transpose((\n",
    "        #     x_centroid,\n",
    "        #     y_centroid\n",
    "        # ))\n",
    "        # aperture = CircularAperture(position, r=r)\n",
    "        # phot = aperture_photometry(image, aperture)[0]['aperture_sum']\n",
    "        # image.header['APT-FLUX'] = phot.value\n",
    "        \n",
    "        # psf flux\n",
    "        # im just gonna do this after\n",
    "        \n",
    "        \n",
    "        \n",
    "        image.write(path, overwrite=True)\n",
    "        DAO_fluxes.append(sources[0]['flux'])\n",
    "        \n",
    "    light_curve = BinnedTimeSeries(\n",
    "        time_bin_start=timestamps,\n",
    "        time_bin_size=image.header['EXPTIME'] * u.s,\n",
    "        data={\n",
    "            'xcentroid' : xcentroids,\n",
    "            'ycentroid' : ycentroids,\n",
    "            'DAO flux' : DAO_fluxes * u.adu\n",
    "            # 'APT flux' : APT_fluxes * u.adu\n",
    "        }\n",
    "    )\n",
    "        \n",
    "    return light_curve\n",
    "    "
   ]
  },
  {
   "cell_type": "code",
   "execution_count": 4,
   "id": "c9b7c4fa-1cdf-49f2-89a7-8f172863849c",
   "metadata": {},
   "outputs": [
    {
     "data": {
      "text/html": [
       "<div><i>BinnedTimeSeries length=5</i>\n",
       "<table id=\"table140543871729472\" class=\"table-striped table-bordered table-condensed\">\n",
       "<thead><tr><th>time_bin_start</th><th>time_bin_size</th><th>xcentroid</th><th>ycentroid</th><th>DAO flux</th></tr></thead>\n",
       "<thead><tr><th></th><th>s</th><th></th><th></th><th>adu</th></tr></thead>\n",
       "<thead><tr><th>Time</th><th>float64</th><th>float64</th><th>float64</th><th>float64</th></tr></thead>\n",
       "<tr><td>2023-05-05T03:37:43.990</td><td>15.0</td><td>1505.6580302009559</td><td>1451.9594233158805</td><td>45.245654889464376</td></tr>\n",
       "<tr><td>2023-05-05T04:06:02.330</td><td>15.0</td><td>1486.5069797565393</td><td>1459.4520589287135</td><td>70.87017499068716</td></tr>\n",
       "<tr><td>2023-05-05T04:33:47.270</td><td>15.0</td><td>1529.8080990654942</td><td>1527.4393652092494</td><td>128.62406166002282</td></tr>\n",
       "<tr><td>2023-05-05T05:33:33.170</td><td>15.0</td><td>1524.2977804982177</td><td>1521.622146581077</td><td>102.79422276187766</td></tr>\n",
       "<tr><td>2023-05-05T04:33:47.270</td><td>15.0</td><td>1573.3308702131615</td><td>1415.1527729842312</td><td>1.0357153477871464</td></tr>\n",
       "</table></div>"
      ],
      "text/plain": [
       "<BinnedTimeSeries length=5>\n",
       "     time_bin_start     time_bin_size ...     ycentroid           DAO flux     \n",
       "                              s       ...                           adu        \n",
       "          Time             float64    ...      float64            float64      \n",
       "----------------------- ------------- ... ------------------ ------------------\n",
       "2023-05-05T03:37:43.990          15.0 ... 1451.9594233158805 45.245654889464376\n",
       "2023-05-05T04:06:02.330          15.0 ... 1459.4520589287135  70.87017499068716\n",
       "2023-05-05T04:33:47.270          15.0 ... 1527.4393652092494 128.62406166002282\n",
       "2023-05-05T05:33:33.170          15.0 ...  1521.622146581077 102.79422276187766\n",
       "2023-05-05T04:33:47.270          15.0 ... 1415.1527729842312 1.0357153477871464"
      ]
     },
     "execution_count": 4,
     "metadata": {},
     "output_type": "execute_result"
    }
   ],
   "source": [
    "tzboo_fluxes = get_fluxes(tz_boo_reduced)\n",
    "tzboo_fluxes"
   ]
  },
  {
   "cell_type": "code",
   "execution_count": 12,
   "id": "58139811-1793-4f78-8a23-b9088ca2c92b",
   "metadata": {},
   "outputs": [],
   "source": [
    "tzboo_fluxes.write('./results/tzboo_DAOresults.csv', overwrite=True)"
   ]
  },
  {
   "cell_type": "code",
   "execution_count": 6,
   "id": "e2eedded-74ab-4f0c-b9a3-b0a0b5506583",
   "metadata": {},
   "outputs": [
    {
     "data": {
      "text/html": [
       "<div><i>BinnedTimeSeries length=3</i>\n",
       "<table id=\"table140543868932592\" class=\"table-striped table-bordered table-condensed\">\n",
       "<thead><tr><th>time_bin_start</th><th>time_bin_size</th><th>xcentroid</th><th>ycentroid</th><th>DAO flux</th></tr></thead>\n",
       "<thead><tr><th></th><th>s</th><th></th><th></th><th>adu</th></tr></thead>\n",
       "<thead><tr><th>Time</th><th>float64</th><th>float64</th><th>float64</th><th>float64</th></tr></thead>\n",
       "<tr><td>2023-05-05T03:51:49.420</td><td>15.0</td><td>1553.4850846834115</td><td>1449.1653270408465</td><td>7.1750177950703575</td></tr>\n",
       "<tr><td>2023-05-05T04:15:01.570</td><td>15.0</td><td>1551.4549216092585</td><td>1438.7615661326574</td><td>4.400289640705585</td></tr>\n",
       "<tr><td>2023-05-05T04:58:12.580</td><td>15.0</td><td>1550.134644481072</td><td>1438.672922784119</td><td>5.941673779134911</td></tr>\n",
       "</table></div>"
      ],
      "text/plain": [
       "<BinnedTimeSeries length=3>\n",
       "     time_bin_start     time_bin_size ...     ycentroid           DAO flux     \n",
       "                              s       ...                           adu        \n",
       "          Time             float64    ...      float64            float64      \n",
       "----------------------- ------------- ... ------------------ ------------------\n",
       "2023-05-05T03:51:49.420          15.0 ... 1449.1653270408465 7.1750177950703575\n",
       "2023-05-05T04:15:01.570          15.0 ... 1438.7615661326574  4.400289640705585\n",
       "2023-05-05T04:58:12.580          15.0 ...  1438.672922784119  5.941673779134911"
      ]
     },
     "execution_count": 6,
     "metadata": {},
     "output_type": "execute_result"
    }
   ],
   "source": [
    "cccom_fluxes = get_fluxes(cc_com_reduced)\n",
    "cccom_fluxes.write('./results/cccom_DAOresults.csv', overwrite=True)\n",
    "cccom_fluxes"
   ]
  },
  {
   "cell_type": "code",
   "execution_count": null,
   "id": "0f39852f-6b63-4538-be48-8fb73ee6db91",
   "metadata": {
    "tags": []
   },
   "outputs": [],
   "source": [
    "from astropy.visualization import SqrtStretch\n",
    "from astropy.visualization.mpl_normalize import ImageNormalize\n",
    "from photutils.aperture import CircularAperture\n",
    "\n",
    "tzboo3 = CCDData.read('./data/tz_boo/reduced/REDUCED_TZ_Boo_15s_V_3_20230505_053321.fits')\n",
    "\n",
    "mean, median, std = sigma_clipped_stats(tzboo3.data, sigma=3.0)\n",
    "daofind = DAOStarFinder(fwhm=3.0, threshold=5.*std)\n",
    "sources = daofind(tzboo3.data - median)\n",
    "\n",
    "positions = np.transpose((sources['xcentroid'], sources['ycentroid']))\n",
    "apertures = CircularAperture(positions, r=50.0)\n",
    "norm = ImageNormalize(stretch=SqrtStretch())\n",
    "# plt.imshow(tzboo3.data, cmap='Greys', origin='lower', norm=norm,\n",
    "#            interpolation='nearest');\n",
    "\n",
    "fig, ax = plt.subplots(figsize=(12, 12))\n",
    "\n",
    "show_image(tzboo3.data[1400:1600, 1400:1600], fig=fig, ax=ax)\n",
    "apertures.plot(color='red', lw=10, alpha=0.5);\n"
   ]
  },
  {
   "cell_type": "code",
   "execution_count": null,
   "id": "cc69f5e6-1471-4988-a95d-b35c3407ddba",
   "metadata": {},
   "outputs": [],
   "source": []
  }
 ],
 "metadata": {
  "kernelspec": {
   "display_name": "Python 3 (ipykernel)",
   "language": "python",
   "name": "python3"
  },
  "language_info": {
   "codemirror_mode": {
    "name": "ipython",
    "version": 3
   },
   "file_extension": ".py",
   "mimetype": "text/x-python",
   "name": "python",
   "nbconvert_exporter": "python",
   "pygments_lexer": "ipython3",
   "version": "3.9.12"
  }
 },
 "nbformat": 4,
 "nbformat_minor": 5
}
