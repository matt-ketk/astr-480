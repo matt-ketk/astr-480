{
 "cells": [
  {
   "cell_type": "code",
   "execution_count": 6,
   "id": "4984c7cd-b4fe-4ec3-a9ea-7f4cb15c0c82",
   "metadata": {},
   "outputs": [],
   "source": [
    "from astropy.stats import sigma_clipped_stats\n",
    "from photutils.datasets import load_star_image\n",
    "from photutils.detection import DAOStarFinder\n",
    "\n",
    "from scipy.stats import norm\n",
    "import numpy as np\n",
    "import matplotlib.pyplot as plt\n",
    "import matplotlib\n",
    "\n",
    "from pathlib import Path\n",
    "from astropy.nddata import CCDData\n",
    "from astropy.io import fits\n",
    "from ccdproc import ImageFileCollection\n",
    "import ccdproc as ccdp\n",
    "\n",
    "from astropy.nddata import CCDData\n",
    "from astropy.stats import mad_std\n",
    "import astropy.units as u\n",
    "from convenience_functions import show_image\n",
    "\n",
    "# suppress warnings is not recommended :I\n",
    "import warnings\n",
    "warnings.filterwarnings(\"ignore\")"
   ]
  },
  {
   "cell_type": "code",
   "execution_count": 7,
   "id": "d88229a5-3e85-4d75-98a1-1667875a28f5",
   "metadata": {},
   "outputs": [],
   "source": [
    "matplotlib.rcParams['figure.dpi'] = 200\n",
    "matplotlib.rcParams['figure.figsize'] = (12, 12)"
   ]
  },
  {
   "cell_type": "code",
   "execution_count": 11,
   "id": "06b9041e-058b-4f8a-af6f-738b2a025c02",
   "metadata": {},
   "outputs": [],
   "source": [
    "cc_com_reduced = './data/cc_com/reduced/'\n",
    "tz_boo_reduced = './data/tz_boo/reduced/'\n",
    "\n",
    "def get_fluxes(images_dir, image_dim=(3056, 3056)):\n",
    "    images = ImageFileCollection(images_dir)\n",
    "    images = images.files_filtered(include_path=True)\n",
    "    \n",
    "    mask = np.ones(image_dim, dtype=bool)\n",
    "    mask[1400:1600, 1400:1600] = False\n",
    "    \n",
    "    fluxes = []\n",
    "    for i, path in np.ndenumerate(images):\n",
    "        # print(path)\n",
    "        image = CCDData.read(path)\n",
    "        mean, media, stdev = sigma_clipped_stats(image.data, sigma=3.0)\n",
    "        daofind = DAOStarFinder(fwhm=3.0, threshold=5.0*stdev)\n",
    "        sources = daofind(image.data, mask=mask)\n",
    "        image.header['FLUX'] = sources[0]['flux']\n",
    "        image.write(path, overwrite=True)\n",
    "        fluxes.append(sources[0]['flux'])\n",
    "        \n",
    "    return np.array(fluxes)\n",
    "    "
   ]
  },
  {
   "cell_type": "code",
   "execution_count": 12,
   "id": "c9b7c4fa-1cdf-49f2-89a7-8f172863849c",
   "metadata": {},
   "outputs": [
    {
     "data": {
      "text/plain": [
       "array([ 45.28386457,  70.99202022, 128.77656612, 102.93023116])"
      ]
     },
     "execution_count": 12,
     "metadata": {},
     "output_type": "execute_result"
    }
   ],
   "source": [
    "tzboo_fluxes = get_fluxes(tz_boo_reduced)\n",
    "tzboo_fluxes"
   ]
  },
  {
   "cell_type": "code",
   "execution_count": 13,
   "id": "20768910-0702-4358-a9ac-c3988321833c",
   "metadata": {},
   "outputs": [],
   "source": [
    "cccom_fluxes = get_fluxes(cc_com_reduced)"
   ]
  },
  {
   "cell_type": "code",
   "execution_count": 14,
   "id": "1df40bcf-428d-4e5c-86bd-a4d915631294",
   "metadata": {},
   "outputs": [
    {
     "data": {
      "text/plain": [
       "array([3.31905206, 4.40771791, 5.946138  ])"
      ]
     },
     "execution_count": 14,
     "metadata": {},
     "output_type": "execute_result"
    }
   ],
   "source": [
    "cccom_fluxes"
   ]
  },
  {
   "cell_type": "markdown",
   "id": "c8d35d8d-0d0d-424a-9ff9-a8ecc4a7b021",
   "metadata": {},
   "source": [
    "```python\n",
    "from astropy.visualization import SqrtStretch\n",
    "from astropy.visualization.mpl_normalize import ImageNormalize\n",
    "from photutils.aperture import CircularAperture\n",
    "\n",
    "positions = np.transpose((sources['xcentroid'], sources['ycentroid']))\n",
    "apertures = CircularAperture(positions, r=4.0)\n",
    "norm = ImageNormalize(stretch=SqrtStretch())\n",
    "# plt.imshow(tzboo3.data, cmap='Greys', origin='lower', norm=norm,\n",
    "#            interpolation='nearest');\n",
    "\n",
    "fig, ax = plt.subplots(figsize=(12, 12))\n",
    "\n",
    "show_image(tzboo3.data, fig=fig, ax=ax)\n",
    "apertures.plot(color='red', lw=10, alpha=0.5);\n",
    "```"
   ]
  },
  {
   "cell_type": "code",
   "execution_count": null,
   "id": "1fc63550-62f1-481b-93c9-b0baf4ef9c70",
   "metadata": {},
   "outputs": [],
   "source": []
  }
 ],
 "metadata": {
  "kernelspec": {
   "display_name": "Python 3 (ipykernel)",
   "language": "python",
   "name": "python3"
  },
  "language_info": {
   "codemirror_mode": {
    "name": "ipython",
    "version": 3
   },
   "file_extension": ".py",
   "mimetype": "text/x-python",
   "name": "python",
   "nbconvert_exporter": "python",
   "pygments_lexer": "ipython3",
   "version": "3.9.12"
  }
 },
 "nbformat": 4,
 "nbformat_minor": 5
}
