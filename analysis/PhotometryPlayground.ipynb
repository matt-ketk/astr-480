{
 "cells": [
  {
   "cell_type": "code",
   "execution_count": 3,
   "id": "69f96a08-a00b-4319-84fc-5d2b244f2cf2",
   "metadata": {},
   "outputs": [],
   "source": [
    "from scipy.stats import norm\n",
    "import numpy as np\n",
    "import matplotlib.pyplot as plt\n",
    "from photutils.aperture import aperture_photometry, CircularAperture, CircularAnnulus\n",
    "\n",
    "from pathlib import Path\n",
    "from astropy.nddata import CCDData\n",
    "from astropy.io import fits\n",
    "from ccdproc import ImageFileCollection\n",
    "import ccdproc as ccdp\n",
    "\n",
    "from astropy.nddata import CCDData\n",
    "from astropy.stats import mad_std\n",
    "import astropy.units as u\n",
    "from convenience_functions import show_image\n",
    "from astropy.timeseries import BinnedTimeSeries, TimeSeries\n",
    "from astropy.table import Column\n",
    "\n",
    "from astropy import units as u\n",
    "from astropy.coordinates import SkyCoord\n",
    "from photutils.aperture import SkyCircularAperture\n",
    "\n",
    "\n",
    "# suppress warnings is not recommended :I\n",
    "import warnings\n",
    "warnings.filterwarnings(\"ignore\")"
   ]
  },
  {
   "cell_type": "code",
   "execution_count": 8,
   "id": "5e969893-c0e3-4b35-8d51-339470bae3c2",
   "metadata": {},
   "outputs": [],
   "source": [
    "cc_com_reduced = './data/cc_com/reduced/'\n",
    "tz_boo_reduced = './data/tz_boo/reduced/'\n",
    "\n",
    "def get_aperture_fluxes(images_dir, image_dim=(3056, 3056), r=50.0):\n",
    "    images = ImageFileCollection(images_dir)\n",
    "    images = images.files_filtered(include_path=True)\n",
    "    \n",
    "    mask = np.ones(image_dim, dtype=bool)\n",
    "    mask[1400:1600, 1400:1600] = False\n",
    "    \n",
    "    APT_fluxes = []\n",
    "    ANU_fluxes = []\n",
    "    for i, path in np.ndenumerate(images):\n",
    "        # print(path)\n",
    "        image = CCDData.read(path)\n",
    "\n",
    "        position = np.transpose((\n",
    "            image.header['X-CENTROID'],\n",
    "            image.header['Y-CENTROID']\n",
    "        ))\n",
    "        aperture = CircularAperture(position, r=r)\n",
    "        annul = CircularAnnulus(position, r_in=r, r_out=1.5*r)\n",
    "        phot_circ = aperture_photometry(image, aperture)[0]['aperture_sum']\n",
    "        phot_anul = aperture_photometry(image, annul)[0]['aperture_sum']\n",
    "        \n",
    "        image.header['APT-FLUX'] = phot_circ.value\n",
    "        image.header['ANU-FLUX'] = phot_anul.value\n",
    "        \n",
    "        APT_fluxes.append(phot_circ.value)\n",
    "        ANU_fluxes.append(phot_anul.value)\n",
    "        \n",
    "    return APT_fluxes, ANU_fluxes"
   ]
  },
  {
   "cell_type": "code",
   "execution_count": 9,
   "id": "badbae8f-8bbf-4bb4-a56b-0d67a7e1232f",
   "metadata": {},
   "outputs": [
    {
     "name": "stdout",
     "output_type": "stream",
     "text": [
      "664613.8785686388 adu\n",
      "612967.0976914911 adu\n",
      "583117.2724831183 adu\n",
      "544382.3021524142 adu\n",
      "[696743.7145410595, 672665.0032227268, 657920.2438691185, 602233.4861799859]\n",
      "[664613.8785686388, 612967.0976914911, 583117.2724831183, 544382.3021524142]\n"
     ]
    }
   ],
   "source": [
    "tzboo_apt, tzboo_anu = get_aperture_fluxes(tz_boo_reduced)\n",
    "print(tzboo_apt)\n",
    "print(tzboo_anu)"
   ]
  },
  {
   "cell_type": "code",
   "execution_count": 10,
   "id": "57179e94-1cf8-43af-a033-9e67bafcec44",
   "metadata": {},
   "outputs": [
    {
     "name": "stdout",
     "output_type": "stream",
     "text": [
      "548667.5388424691 adu\n",
      "545002.6669727325 adu\n",
      "556507.338906915 adu\n",
      "[450925.6694071289, 446639.445057526, 455304.25499404693]\n",
      "[548667.5388424691, 545002.6669727325, 556507.338906915]\n"
     ]
    }
   ],
   "source": [
    "cccom_apt, cccom_anu = get_aperture_fluxes(cc_com_reduced)\n",
    "# cccom_fluxes.write('./results/cccom_DAOresults.csv')\n",
    "print(cccom_apt)\n",
    "print(cccom_anu)"
   ]
  },
  {
   "cell_type": "code",
   "execution_count": 16,
   "id": "84f90479-4ca7-477d-a75f-d62f88b3ae52",
   "metadata": {},
   "outputs": [],
   "source": [
    "tzboo_DAO = BinnedTimeSeries.read(\n",
    "    './results/tzboo_DAOresults.csv',\n",
    "    time_bin_start_column='time_bin_start',\n",
    "    time_bin_size_column='time_bin_size',\n",
    "    time_bin_size_unit=u.s\n",
    ")\n",
    "apflux_col = Column(name='AP flux', data=tzboo_apt)\n",
    "anflux_col = Column(name='Anu flux', data=tzboo_anu)\n",
    "tzboo_DAO.add_column(apflux_col)\n",
    "tzboo_DAO.add_column(anflux_col)\n",
    "tzboo_DAO.write('./results/tzboo_results.csv', overwrite=True)"
   ]
  },
  {
   "cell_type": "code",
   "execution_count": 17,
   "id": "e1a39fa1-2b93-47d0-bf68-19a150fb6c3a",
   "metadata": {},
   "outputs": [
    {
     "data": {
      "text/html": [
       "<div><i>BinnedTimeSeries length=4</i>\n",
       "<table id=\"table140110587754768\" class=\"table-striped table-bordered table-condensed\">\n",
       "<thead><tr><th>time_bin_start</th><th>time_bin_size</th><th>xcentroid</th><th>ycentroid</th><th>DAO flux</th><th>AP flux</th><th>Anu flux</th></tr></thead>\n",
       "<thead><tr><th></th><th>s</th><th></th><th></th><th></th><th></th><th></th></tr></thead>\n",
       "<thead><tr><th>Time</th><th>float64</th><th>float64</th><th>float64</th><th>float64</th><th>float64</th><th>float64</th></tr></thead>\n",
       "<tr><td>2023-05-05T03:37:43.990</td><td>15.0</td><td>1505.658545068577</td><td>1451.9598233141166</td><td>45.283864574166145</td><td>696743.7145410595</td><td>664613.8785686388</td></tr>\n",
       "<tr><td>2023-05-05T04:06:02.330</td><td>15.0</td><td>1486.5070405122656</td><td>1459.4518074772132</td><td>70.99202021518356</td><td>672665.0032227268</td><td>612967.0976914911</td></tr>\n",
       "<tr><td>2023-05-05T04:33:47.270</td><td>15.0</td><td>1529.8081988179474</td><td>1527.4394505568735</td><td>128.77656611821413</td><td>657920.2438691185</td><td>583117.2724831183</td></tr>\n",
       "<tr><td>2023-05-05T05:33:33.170</td><td>15.0</td><td>1524.2979148448526</td><td>1521.6222535867441</td><td>102.93023116168068</td><td>602233.4861799859</td><td>544382.3021524142</td></tr>\n",
       "</table></div>"
      ],
      "text/plain": [
       "<BinnedTimeSeries length=4>\n",
       "     time_bin_start     time_bin_size ...      AP flux           Anu flux    \n",
       "                              s       ...                                    \n",
       "          Time             float64    ...      float64           float64     \n",
       "----------------------- ------------- ... ----------------- -----------------\n",
       "2023-05-05T03:37:43.990          15.0 ... 696743.7145410595 664613.8785686388\n",
       "2023-05-05T04:06:02.330          15.0 ... 672665.0032227268 612967.0976914911\n",
       "2023-05-05T04:33:47.270          15.0 ... 657920.2438691185 583117.2724831183\n",
       "2023-05-05T05:33:33.170          15.0 ... 602233.4861799859 544382.3021524142"
      ]
     },
     "execution_count": 17,
     "metadata": {},
     "output_type": "execute_result"
    }
   ],
   "source": [
    "tzboo_DAO"
   ]
  },
  {
   "cell_type": "code",
   "execution_count": 13,
   "id": "0151a41a-606d-4600-8756-2febbfcf548b",
   "metadata": {},
   "outputs": [],
   "source": [
    "cccom_DAO = BinnedTimeSeries.read(\n",
    "    './results/cccom_DAOresults.csv',\n",
    "    time_bin_start_column='time_bin_start',\n",
    "    time_bin_size_column='time_bin_size',\n",
    "    time_bin_size_unit=u.s\n",
    ")\n",
    "apflux_col = Column(name='AP flux', data=cccom_apt)\n",
    "anflux_col = Column(name='Anu flux', data=cccom_anu)\n",
    "cccom_DAO.add_column(apflux_col)\n",
    "cccom_DAO.add_column(anflux_col)\n",
    "cccom_DAO.write('./results/cccom_results.csv', overwrite=True)"
   ]
  },
  {
   "cell_type": "code",
   "execution_count": 14,
   "id": "bc842c8f-59a1-4735-b29f-1e4efd0f844b",
   "metadata": {},
   "outputs": [
    {
     "data": {
      "text/html": [
       "<div><i>BinnedTimeSeries length=3</i>\n",
       "<table id=\"table140109768355648\" class=\"table-striped table-bordered table-condensed\">\n",
       "<thead><tr><th>time_bin_start</th><th>time_bin_size</th><th>xcentroid</th><th>ycentroid</th><th>DAO flux</th><th>AP flux</th><th>Anu flux</th></tr></thead>\n",
       "<thead><tr><th></th><th>s</th><th></th><th></th><th></th><th></th><th></th></tr></thead>\n",
       "<thead><tr><th>Time</th><th>float64</th><th>float64</th><th>float64</th><th>float64</th><th>float64</th><th>float64</th></tr></thead>\n",
       "<tr><td>2023-05-05T03:47:49.549</td><td>15.0</td><td>1553.040442438791</td><td>1437.5034251892966</td><td>3.319052059965849</td><td>450925.6694071289</td><td>548667.5388424691</td></tr>\n",
       "<tr><td>2023-05-05T04:15:01.570</td><td>15.0</td><td>1551.4548739944155</td><td>1438.76161766664</td><td>4.407717909508814</td><td>446639.445057526</td><td>545002.6669727325</td></tr>\n",
       "<tr><td>2023-05-05T04:58:12.580</td><td>15.0</td><td>1550.1356753563516</td><td>1438.672920101272</td><td>5.94613799804669</td><td>455304.25499404693</td><td>556507.338906915</td></tr>\n",
       "</table></div>"
      ],
      "text/plain": [
       "<BinnedTimeSeries length=3>\n",
       "     time_bin_start     time_bin_size ...      AP flux            Anu flux    \n",
       "                              s       ...                                     \n",
       "          Time             float64    ...      float64            float64     \n",
       "----------------------- ------------- ... ------------------ -----------------\n",
       "2023-05-05T03:47:49.549          15.0 ...  450925.6694071289 548667.5388424691\n",
       "2023-05-05T04:15:01.570          15.0 ...   446639.445057526 545002.6669727325\n",
       "2023-05-05T04:58:12.580          15.0 ... 455304.25499404693  556507.338906915"
      ]
     },
     "execution_count": 14,
     "metadata": {},
     "output_type": "execute_result"
    }
   ],
   "source": [
    "cccom_DAO"
   ]
  },
  {
   "cell_type": "code",
   "execution_count": 2,
   "id": "9e868926-7f9e-47a1-a797-40ee749f0ce2",
   "metadata": {},
   "outputs": [
    {
     "ename": "NameError",
     "evalue": "name 'my_finder' is not defined",
     "output_type": "error",
     "traceback": [
      "\u001b[0;31m---------------------------------------------------------------------------\u001b[0m",
      "\u001b[0;31mNameError\u001b[0m                                 Traceback (most recent call last)",
      "Input \u001b[0;32mIn [2]\u001b[0m, in \u001b[0;36m<cell line: 2>\u001b[0;34m()\u001b[0m\n\u001b[1;32m      1\u001b[0m \u001b[38;5;28;01mfrom\u001b[39;00m \u001b[38;5;21;01mphotutils\u001b[39;00m\u001b[38;5;21;01m.\u001b[39;00m\u001b[38;5;21;01mpsf\u001b[39;00m \u001b[38;5;28;01mimport\u001b[39;00m IterativelySubtractedPSFPhotometry\n\u001b[1;32m      2\u001b[0m my_photometry \u001b[38;5;241m=\u001b[39m IterativelySubtractedPSFPhotometry(\n\u001b[0;32m----> 3\u001b[0m     finder\u001b[38;5;241m=\u001b[39m\u001b[43mmy_finder\u001b[49m, group_maker\u001b[38;5;241m=\u001b[39mmy_group_maker,\n\u001b[1;32m      4\u001b[0m     bkg_estimator\u001b[38;5;241m=\u001b[39mmy_bkg_estimator, psf_model\u001b[38;5;241m=\u001b[39mmy_psf_model,\n\u001b[1;32m      5\u001b[0m     fitter\u001b[38;5;241m=\u001b[39mmy_fitter, niters\u001b[38;5;241m=\u001b[39m\u001b[38;5;241m3\u001b[39m, fitshape\u001b[38;5;241m=\u001b[39m(\u001b[38;5;241m7\u001b[39m, \u001b[38;5;241m7\u001b[39m))\n\u001b[1;32m      6\u001b[0m \u001b[38;5;66;03m# get photometry results\u001b[39;00m\n\u001b[1;32m      7\u001b[0m photometry_results \u001b[38;5;241m=\u001b[39m my_photometry(image\u001b[38;5;241m=\u001b[39mmy_image)\n",
      "\u001b[0;31mNameError\u001b[0m: name 'my_finder' is not defined"
     ]
    }
   ],
   "source": [
    "from photutils.psf import IterativelySubtractedPSFPhotometry\n",
    "my_photometry = IterativelySubtractedPSFPhotometry(\n",
    "    finder=my_finder, group_maker=my_group_maker,\n",
    "    bkg_estimator=my_bkg_estimator, psf_model=my_psf_model,\n",
    "    fitter=my_fitter, niters=3, fitshape=(7, 7))\n",
    "# get photometry results\n",
    "photometry_results = my_photometry(image=my_image)\n",
    "# get residual image\n",
    "residual_image = my_photometry.get_residual_image()"
   ]
  },
  {
   "cell_type": "code",
   "execution_count": null,
   "id": "59329ba8-7d26-4942-9c1e-b162b6dc57b2",
   "metadata": {},
   "outputs": [],
   "source": []
  }
 ],
 "metadata": {
  "kernelspec": {
   "display_name": "Python 3 (ipykernel)",
   "language": "python",
   "name": "python3"
  },
  "language_info": {
   "codemirror_mode": {
    "name": "ipython",
    "version": 3
   },
   "file_extension": ".py",
   "mimetype": "text/x-python",
   "name": "python",
   "nbconvert_exporter": "python",
   "pygments_lexer": "ipython3",
   "version": "3.9.12"
  }
 },
 "nbformat": 4,
 "nbformat_minor": 5
}
