{
 "cells": [
  {
   "cell_type": "code",
   "execution_count": 35,
   "id": "69f96a08-a00b-4319-84fc-5d2b244f2cf2",
   "metadata": {},
   "outputs": [],
   "source": [
    "from scipy.stats import norm\n",
    "import numpy as np\n",
    "import matplotlib.pyplot as plt\n",
    "from photutils.aperture import aperture_photometry, CircularAperture\n",
    "\n",
    "from pathlib import Path\n",
    "from astropy.nddata import CCDData\n",
    "from astropy.io import fits\n",
    "from ccdproc import ImageFileCollection\n",
    "import ccdproc as ccdp\n",
    "\n",
    "from astropy.nddata import CCDData\n",
    "from astropy.stats import mad_std\n",
    "import astropy.units as u\n",
    "from convenience_functions import show_image\n",
    "from astropy.timeseries import BinnedTimeSeries, TimeSeries\n",
    "from astropy.table import Column\n",
    "\n",
    "from astropy import units as u\n",
    "from astropy.coordinates import SkyCoord\n",
    "from photutils.aperture import SkyCircularAperture\n",
    "\n",
    "\n",
    "# suppress warnings is not recommended :I\n",
    "import warnings\n",
    "warnings.filterwarnings(\"ignore\")"
   ]
  },
  {
   "cell_type": "code",
   "execution_count": 38,
   "id": "5e969893-c0e3-4b35-8d51-339470bae3c2",
   "metadata": {},
   "outputs": [],
   "source": [
    "cc_com_reduced = './data/cc_com/reduced/'\n",
    "tz_boo_reduced = './data/tz_boo/reduced/'\n",
    "\n",
    "def get_aperture_fluxes(images_dir, image_dim=(3056, 3056), r=50.0):\n",
    "    images = ImageFileCollection(images_dir)\n",
    "    images = images.files_filtered(include_path=True)\n",
    "    \n",
    "    mask = np.ones(image_dim, dtype=bool)\n",
    "    mask[1400:1600, 1400:1600] = False\n",
    "    \n",
    "    APT_fluxes = []\n",
    "    for i, path in np.ndenumerate(images):\n",
    "        # print(path)\n",
    "        image = CCDData.read(path)\n",
    "\n",
    "        position = np.transpose((\n",
    "            image.header['X-CENTROID'],\n",
    "            image.header['Y-CENTROID']\n",
    "        ))\n",
    "        aperture = CircularAperture(position, r=r)\n",
    "        phot = aperture_photometry(image, aperture)[0]['aperture_sum']\n",
    "        image.header['APT-FLUX'] = phot.value\n",
    "        \n",
    "        APT_fluxes.append(phot.value)\n",
    "        \n",
    "    return APT_fluxes"
   ]
  },
  {
   "cell_type": "code",
   "execution_count": 39,
   "id": "badbae8f-8bbf-4bb4-a56b-0d67a7e1232f",
   "metadata": {},
   "outputs": [
    {
     "data": {
      "text/plain": [
       "[696743.7145410595, 672665.0032227268, 657920.2438691185, 602233.4861799859]"
      ]
     },
     "execution_count": 39,
     "metadata": {},
     "output_type": "execute_result"
    }
   ],
   "source": [
    "tzboo_fluxes = get_aperture_fluxes(tz_boo_reduced)\n",
    "tzboo_fluxes"
   ]
  },
  {
   "cell_type": "code",
   "execution_count": 48,
   "id": "57179e94-1cf8-43af-a033-9e67bafcec44",
   "metadata": {},
   "outputs": [
    {
     "data": {
      "text/plain": [
       "[450925.6694071289, 446639.445057526, 455304.25499404693]"
      ]
     },
     "execution_count": 48,
     "metadata": {},
     "output_type": "execute_result"
    }
   ],
   "source": [
    "cccom_fluxes = get_aperture_fluxes(cc_com_reduced)\n",
    "# cccom_fluxes.write('./results/cccom_DAOresults.csv')\n",
    "cccom_fluxes"
   ]
  },
  {
   "cell_type": "code",
   "execution_count": 45,
   "id": "84f90479-4ca7-477d-a75f-d62f88b3ae52",
   "metadata": {},
   "outputs": [],
   "source": [
    "tzboo_DAO = BinnedTimeSeries.read(\n",
    "    './results/tzboo_DAOresults.csv',\n",
    "    time_bin_start_column='time_bin_start',\n",
    "    time_bin_size_column='time_bin_size',\n",
    "    time_bin_size_unit=u.s\n",
    ")\n",
    "apflux_col = Column(name='AP flux', data=tzboo_fluxes)\n",
    "tzboo_DAO.add_column(apflux_col)\n",
    "tzboo_DAO.write('./results/tzboo_results.csv')"
   ]
  },
  {
   "cell_type": "code",
   "execution_count": 49,
   "id": "0151a41a-606d-4600-8756-2febbfcf548b",
   "metadata": {},
   "outputs": [],
   "source": [
    "cccom_DAO = BinnedTimeSeries.read(\n",
    "    './results/cccom_DAOresults.csv',\n",
    "    time_bin_start_column='time_bin_start',\n",
    "    time_bin_size_column='time_bin_size',\n",
    "    time_bin_size_unit=u.s\n",
    ")\n",
    "apflux_col = Column(name='AP flux', data=cccom_fluxes)\n",
    "cccom_DAO.add_column(apflux_col)\n",
    "cccom_DAO.write('./results/cccom_results.csv')"
   ]
  },
  {
   "cell_type": "code",
   "execution_count": 50,
   "id": "bc842c8f-59a1-4735-b29f-1e4efd0f844b",
   "metadata": {},
   "outputs": [
    {
     "data": {
      "text/html": [
       "<div><i>BinnedTimeSeries length=3</i>\n",
       "<table id=\"table140524142804512\" class=\"table-striped table-bordered table-condensed\">\n",
       "<thead><tr><th>time_bin_start</th><th>time_bin_size</th><th>xcentroid</th><th>ycentroid</th><th>DAO flux</th><th>AP flux</th></tr></thead>\n",
       "<thead><tr><th></th><th>s</th><th></th><th></th><th></th><th></th></tr></thead>\n",
       "<thead><tr><th>Time</th><th>float64</th><th>float64</th><th>float64</th><th>float64</th><th>float64</th></tr></thead>\n",
       "<tr><td>2023-05-05T03:47:49.549</td><td>15.0</td><td>1553.040442438791</td><td>1437.5034251892966</td><td>3.319052059965849</td><td>450925.6694071289</td></tr>\n",
       "<tr><td>2023-05-05T04:15:01.570</td><td>15.0</td><td>1551.4548739944155</td><td>1438.76161766664</td><td>4.407717909508814</td><td>446639.445057526</td></tr>\n",
       "<tr><td>2023-05-05T04:58:12.580</td><td>15.0</td><td>1550.1356753563516</td><td>1438.672920101272</td><td>5.94613799804669</td><td>455304.25499404693</td></tr>\n",
       "</table></div>"
      ],
      "text/plain": [
       "<BinnedTimeSeries length=3>\n",
       "     time_bin_start     time_bin_size ...      DAO flux          AP flux      \n",
       "                              s       ...                                     \n",
       "          Time             float64    ...      float64           float64      \n",
       "----------------------- ------------- ... ----------------- ------------------\n",
       "2023-05-05T03:47:49.549          15.0 ... 3.319052059965849  450925.6694071289\n",
       "2023-05-05T04:15:01.570          15.0 ... 4.407717909508814   446639.445057526\n",
       "2023-05-05T04:58:12.580          15.0 ...  5.94613799804669 455304.25499404693"
      ]
     },
     "execution_count": 50,
     "metadata": {},
     "output_type": "execute_result"
    }
   ],
   "source": [
    "cccom_DAO"
   ]
  },
  {
   "cell_type": "code",
   "execution_count": null,
   "id": "9e868926-7f9e-47a1-a797-40ee749f0ce2",
   "metadata": {},
   "outputs": [],
   "source": []
  }
 ],
 "metadata": {
  "kernelspec": {
   "display_name": "Python 3 (ipykernel)",
   "language": "python",
   "name": "python3"
  },
  "language_info": {
   "codemirror_mode": {
    "name": "ipython",
    "version": 3
   },
   "file_extension": ".py",
   "mimetype": "text/x-python",
   "name": "python",
   "nbconvert_exporter": "python",
   "pygments_lexer": "ipython3",
   "version": "3.9.12"
  }
 },
 "nbformat": 4,
 "nbformat_minor": 5
}
