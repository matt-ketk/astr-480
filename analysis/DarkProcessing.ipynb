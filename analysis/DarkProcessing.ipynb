{
 "cells": [
  {
   "cell_type": "code",
   "execution_count": 3,
   "id": "c132abc2-27d9-4d3c-80c2-72e916736d63",
   "metadata": {},
   "outputs": [],
   "source": [
    "from scipy.stats import norm\n",
    "import numpy as np\n",
    "import matplotlib.pyplot as plt\n",
    "\n",
    "from pathlib import Path\n",
    "from astropy.nddata import CCDData\n",
    "from astropy.io import fits\n",
    "from ccdproc import ImageFileCollection\n",
    "import ccdproc as ccdp\n",
    "\n",
    "from astropy.nddata import CCDData\n",
    "from astropy.stats import mad_std\n",
    "import astropy.units as u\n",
    "from convenience_functions import show_image\n",
    "\n",
    "# suppress warnings is not recommended :I\n",
    "import warnings\n",
    "warnings.filterwarnings(\"ignore\")"
   ]
  },
  {
   "cell_type": "markdown",
   "id": "4237ffec-35c9-46e9-b3ba-dbdf566e44a6",
   "metadata": {},
   "source": [
    "# Subtract Bias"
   ]
  },
  {
   "cell_type": "code",
   "execution_count": 8,
   "id": "7b16d26c-d656-4ee6-af61-2d749b4184c1",
   "metadata": {},
   "outputs": [],
   "source": [
    "exp_time = 900.0\n",
    "\n",
    "bias_dir = './data/bias/'\n",
    "dark_dir = './data/dark/'\n",
    "combined_bias = CCDData.read(bias_dir + '/combined_bias.fits')\n",
    "raw_darks = ImageFileCollection(dark_dir + 'raw')\n",
    "\n",
    "for ccd, file_name in raw_darks.ccds(\n",
    "    imagetyp='DARK',\n",
    "    exptime=exp_time,\n",
    "    return_fname=True,\n",
    "    unit='adu'\n",
    "):\n",
    "    processed = ccdp.subtract_bias(ccd, combined_bias)\n",
    "    ccd.write(dark_dir + f'reduced/{file_name}', overwrite=True)"
   ]
  },
  {
   "cell_type": "markdown",
   "id": "663a24d3-23e3-406e-b4eb-0b409010c467",
   "metadata": {},
   "source": [
    "# Combine Darks"
   ]
  },
  {
   "cell_type": "code",
   "execution_count": 10,
   "id": "9bdf71c7-005b-4074-90eb-7dd14ae9e5fb",
   "metadata": {},
   "outputs": [
    {
     "name": "stderr",
     "output_type": "stream",
     "text": [
      "INFO:astropy:splitting each image into 5 chunks to limit memory usage to 350000000.0 bytes.\n"
     ]
    },
    {
     "name": "stdout",
     "output_type": "stream",
     "text": [
      "INFO: splitting each image into 5 chunks to limit memory usage to 350000000.0 bytes. [ccdproc.combiner]\n"
     ]
    }
   ],
   "source": [
    "exp_time = 900.0\n",
    "\n",
    "reduced_darks = ImageFileCollection(dark_dir + 'reduced')\n",
    "combined_dark = ccdp.combine(\n",
    "    reduced_darks.files_filtered(imagetyp='DARK', include_path=True),\n",
    "    method='average',\n",
    "    sigma_clip=True,\n",
    "    sigma_clip_low_thresh=5,\n",
    "    sigma_clip_high_thresh=5,\n",
    "    sigma_clip_func=np.ma.median,\n",
    "    sigma_clip_dev_func=mad_std,\n",
    "    mem_limit=350e+6\n",
    ")\n",
    "\n",
    "combined_dark.meta['combined'] = True\n",
    "dark_file_name = 'combined_dark_{:6.3f}.fits'.format(exp_time)\n",
    "combined_dark.write(dark_dir + f'/{dark_file_name}', overwrite=True)"
   ]
  },
  {
   "cell_type": "code",
   "execution_count": null,
   "id": "9af87642-8ccb-43b8-81b1-947534530c52",
   "metadata": {},
   "outputs": [],
   "source": []
  }
 ],
 "metadata": {
  "kernelspec": {
   "display_name": "Python 3 (ipykernel)",
   "language": "python",
   "name": "python3"
  },
  "language_info": {
   "codemirror_mode": {
    "name": "ipython",
    "version": 3
   },
   "file_extension": ".py",
   "mimetype": "text/x-python",
   "name": "python",
   "nbconvert_exporter": "python",
   "pygments_lexer": "ipython3",
   "version": "3.9.12"
  }
 },
 "nbformat": 4,
 "nbformat_minor": 5
}
