{
 "cells": [
  {
   "cell_type": "code",
   "execution_count": 1,
   "id": "94af9cc8-8050-4725-a5fb-72536aa295e3",
   "metadata": {},
   "outputs": [],
   "source": [
    "from scipy.stats import norm\n",
    "import numpy as np\n",
    "import matplotlib.pyplot as plt\n",
    "\n",
    "from pathlib import Path\n",
    "from astropy.nddata import CCDData\n",
    "from astropy.io import fits\n",
    "from ccdproc import ImageFileCollection\n",
    "import ccdproc as ccdp\n",
    "\n",
    "from astropy.nddata import CCDData\n",
    "from astropy.stats import mad_std\n",
    "import astropy.units as u\n",
    "from convenience_functions import show_image\n",
    "\n",
    "# suppress warnings is not recommended :I\n",
    "import warnings\n",
    "warnings.filterwarnings(\"ignore\")"
   ]
  },
  {
   "cell_type": "code",
   "execution_count": null,
   "id": "3f273e4e-8a9b-496f-89ab-52bdbec3c555",
   "metadata": {},
   "outputs": [],
   "source": []
  }
 ],
 "metadata": {
  "kernelspec": {
   "display_name": "Python 3 (ipykernel)",
   "language": "python",
   "name": "python3"
  },
  "language_info": {
   "codemirror_mode": {
    "name": "ipython",
    "version": 3
   },
   "file_extension": ".py",
   "mimetype": "text/x-python",
   "name": "python",
   "nbconvert_exporter": "python",
   "pygments_lexer": "ipython3",
   "version": "3.9.12"
  }
 },
 "nbformat": 4,
 "nbformat_minor": 5
}
