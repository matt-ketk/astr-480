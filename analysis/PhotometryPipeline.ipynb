{
 "cells": [
  {
   "cell_type": "code",
   "execution_count": 1,
   "id": "94af9cc8-8050-4725-a5fb-72536aa295e3",
   "metadata": {},
   "outputs": [],
   "source": [
    "from scipy.stats import norm\n",
    "import numpy as np\n",
    "import matplotlib.pyplot as plt\n",
    "\n",
    "from pathlib import Path\n",
    "from astropy.nddata import CCDData\n",
    "from astropy.io import fits\n",
    "from ccdproc import ImageFileCollection\n",
    "import ccdproc as ccdp\n",
    "\n",
    "from astropy.nddata import CCDData\n",
    "from astropy.stats import mad_std\n",
    "import astropy.units as u\n",
    "from convenience_functions import show_image\n",
    "\n",
    "from photutils.aperture import aperture_photometry, CircularAperture\n",
    "\n",
    "# suppress warnings is not recommended :I\n",
    "import warnings\n",
    "warnings.filterwarnings(\"ignore\")"
   ]
  },
  {
   "cell_type": "markdown",
   "id": "473f9153-9d0b-451a-9564-3e86f93b300a",
   "metadata": {},
   "source": [
    "To do list\n",
    "- [x] get centroid coordinates in a list for each image\n",
    "- [ ] apply aperture photometry\n",
    "- [ ] apply psf (gross, allegedly)"
   ]
  },
  {
   "cell_type": "markdown",
   "id": "87473814-07b5-4c2e-a567-b881899fdf12",
   "metadata": {},
   "source": [
    "```python\n",
    "from photutils.aperture import aperture_photometry, CircularAperture\n",
    "positions = np.transpose((sources['xcentroid'], sources['ycentroid']))  \n",
    "apertures = CircularAperture(positions, r=4.0)  \n",
    "phot_table = aperture_photometry(image, apertures)  \n",
    "for col in phot_table.colnames:  \n",
    "    phot_table[col].info.format = '%.8g'  # for consistent table output\n",
    "print(phot_table) \n",
    "```"
   ]
  },
  {
   "cell_type": "code",
   "execution_count": 2,
   "id": "df6c9812-2fb8-40cb-9b5e-1fe6281b7d2f",
   "metadata": {},
   "outputs": [],
   "source": [
    "def apply_aperture(images_dir, r=50.0):\n",
    "    images = ImageFileCollection(images_dir)\n",
    "    images = images.files_filtered(include_path=True)\n",
    "    \n",
    "    aperture_fluxes = []\n",
    "    for i, path in np.ndenumerate(images):\n",
    "        image = CCDData.read(path)\n",
    "        position = np.transpose((\n",
    "            image.header['X-CENTROID'],\n",
    "            image.header['Y-CENTROID']\n",
    "        ))\n",
    "        aperture = CircularAperture(position, r=r)\n",
    "        phot = aperture_photometry(image, aperture)[0]['aperture_sum']\n",
    "        "
   ]
  }
 ],
 "metadata": {
  "kernelspec": {
   "display_name": "Python 3 (ipykernel)",
   "language": "python",
   "name": "python3"
  },
  "language_info": {
   "codemirror_mode": {
    "name": "ipython",
    "version": 3
   },
   "file_extension": ".py",
   "mimetype": "text/x-python",
   "name": "python",
   "nbconvert_exporter": "python",
   "pygments_lexer": "ipython3",
   "version": "3.9.12"
  }
 },
 "nbformat": 4,
 "nbformat_minor": 5
}
