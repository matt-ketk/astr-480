{
 "cells": [
  {
   "cell_type": "code",
   "execution_count": 16,
   "id": "39db7daa-f043-4ce2-8caa-334987d2b2b7",
   "metadata": {},
   "outputs": [],
   "source": [
    "from scipy.stats import norm\n",
    "import numpy as np\n",
    "import matplotlib.pyplot as plt\n",
    "\n",
    "from pathlib import Path\n",
    "from astropy.nddata import CCDData\n",
    "from astropy.io import fits\n",
    "from ccdproc import ImageFileCollection\n",
    "import ccdproc as ccdp\n",
    "\n",
    "from astropy.nddata import CCDData\n",
    "from astropy.stats import mad_std\n",
    "import astropy.units as u\n",
    "from convenience_functions import show_image\n",
    "\n",
    "# suppress warnings is not recommended :I\n",
    "import warnings\n",
    "warnings.filterwarnings(\"ignore\")\n",
    "\n",
    "bias_dir = './data/bias/'\n",
    "dark_dir = './data/dark/'\n",
    "flat_dir = './data/flat/'"
   ]
  },
  {
   "cell_type": "markdown",
   "id": "785dcc46-b8c6-4486-b75d-379bcc7d8620",
   "metadata": {},
   "source": [
    "# Biases Data Summary"
   ]
  },
  {
   "cell_type": "code",
   "execution_count": 17,
   "id": "73255cc2-8bbf-4915-95cb-1986bb277414",
   "metadata": {},
   "outputs": [
    {
     "name": "stdout",
     "output_type": "stream",
     "text": [
      "-----RAW BIAS DATA-----\n",
      "./data/bias/raw/Bias_BIN1_20230424_031732.fits: 980.423\n",
      "./data/bias/raw/Bias_BIN1_20230424_031823.fits: 980.209\n",
      "./data/bias/raw/Bias_BIN1_20230424_031904.fits: 980.381\n",
      "./data/bias/raw/Bias_BIN1_20230424_031946.fits: 980.619\n",
      "./data/bias/raw/Bias_BIN1_20230424_032028.fits: 980.514\n",
      "./data/bias/raw/Bias_BIN1_20230424_032109.fits: 980.559\n",
      "./data/bias/raw/Bias_BIN1_20230424_032152.fits: 980.830\n",
      "\n",
      "--COMBINED BIAS DATA--\n",
      "./data/bias/combined_bias.fits: 980.505\n"
     ]
    }
   ],
   "source": [
    "print('-----RAW BIAS DATA-----')\n",
    "directory = ImageFileCollection(bias_dir + 'raw/').files_filtered(include_path=True)\n",
    "for file_name in directory:\n",
    "    data_mean = CCDData.read(file_name, unit='adu').data.mean()\n",
    "    print(f'{file_name}: {data_mean:.3f}')\n",
    "    \n",
    "print('\\n--COMBINED BIAS DATA--')\n",
    "path = bias_dir + 'combined_bias.fits'\n",
    "combined_bias = CCDData.read(path)\n",
    "data_mean = combined_bias.data.mean()\n",
    "print(f'{path}: {data_mean:.3f}')"
   ]
  },
  {
   "cell_type": "markdown",
   "id": "9b02cfe9-e336-4c25-af96-aad1eebbec97",
   "metadata": {},
   "source": [
    "# Darks Data Summary"
   ]
  },
  {
   "cell_type": "code",
   "execution_count": 18,
   "id": "07607e55-81cd-4e16-adad-c8bc83eafc25",
   "metadata": {},
   "outputs": [
    {
     "name": "stderr",
     "output_type": "stream",
     "text": [
      "INFO:astropy:using the unit adu passed to the FITS reader instead of the unit adu in the FITS file.\n",
      "INFO:astropy:using the unit adu passed to the FITS reader instead of the unit adu in the FITS file.\n"
     ]
    },
    {
     "name": "stdout",
     "output_type": "stream",
     "text": [
      "-----RAW DARK DATA-----\n",
      "./data/dark/raw/Dark_BIN1_20230422_092413.fits: 995.948\n",
      "./data/dark/raw/Dark_BIN1_20230422_094008.fits: 995.686\n",
      "./data/dark/raw/Dark_BIN1_20230422_095549.fits: 995.427\n",
      "./data/dark/raw/dark1800.fits: 998.541\n",
      "./data/dark/raw/dark900.fits: 990.736\n",
      "\n",
      "---REDUCED DARK DATA---\n",
      "INFO: using the unit adu passed to the FITS reader instead of the unit adu in the FITS file. [astropy.nddata.ccddata]\n",
      "./data/dark/reduced/Dark_BIN1_20230422_092413.fits: 15.443\n",
      "INFO: using the unit adu passed to the FITS reader instead of the unit adu in the FITS file. [astropy.nddata.ccddata]\n"
     ]
    },
    {
     "name": "stderr",
     "output_type": "stream",
     "text": [
      "INFO:astropy:using the unit adu passed to the FITS reader instead of the unit adu in the FITS file.\n",
      "INFO:astropy:using the unit adu passed to the FITS reader instead of the unit adu in the FITS file.\n"
     ]
    },
    {
     "name": "stdout",
     "output_type": "stream",
     "text": [
      "./data/dark/reduced/Dark_BIN1_20230422_094008.fits: 15.181\n",
      "INFO: using the unit adu passed to the FITS reader instead of the unit adu in the FITS file. [astropy.nddata.ccddata]\n",
      "./data/dark/reduced/Dark_BIN1_20230422_095549.fits: 14.922\n",
      "INFO: using the unit adu passed to the FITS reader instead of the unit adu in the FITS file. [astropy.nddata.ccddata]\n",
      "./data/dark/reduced/dark900.fits: 10.230\n",
      "\n",
      "--COMBINED DARKS DATA--\n",
      "./data/dark/combined_dark_900.000.fits: 13.710\n"
     ]
    }
   ],
   "source": [
    "print('-----RAW DARK DATA-----')\n",
    "directory = ImageFileCollection(dark_dir + 'raw').files_filtered(include_path=True)\n",
    "for file_name in directory:\n",
    "    data_mean = CCDData.read(file_name, unit='adu').data.mean();\n",
    "    print(f'{file_name}: {data_mean:.3f}')\n",
    "    \n",
    "print('\\n---REDUCED DARK DATA---')\n",
    "directory = ImageFileCollection(dark_dir + 'reduced').files_filtered(include_path=True)\n",
    "for file_name in directory:\n",
    "    data_mean = CCDData.read(file_name, unit='adu').data.mean();\n",
    "    print(f'{file_name}: {data_mean:.3f}')\n",
    "    \n",
    "print('\\n--COMBINED DARKS DATA--')\n",
    "path = dark_dir + 'combined_dark_900.000.fits'\n",
    "combined_dark = CCDData.read(path);\n",
    "data_mean = combined_dark.data.mean()\n",
    "print(f'{path}: {data_mean:.3f}')"
   ]
  },
  {
   "cell_type": "markdown",
   "id": "5e620411-ea29-4fe2-852c-e3dfaf8b148c",
   "metadata": {},
   "source": [
    "# Flats Data Summary"
   ]
  },
  {
   "cell_type": "code",
   "execution_count": 20,
   "id": "bb5ed411-d124-4609-a685-79768b81a7fe",
   "metadata": {},
   "outputs": [
    {
     "name": "stderr",
     "output_type": "stream",
     "text": [
      "INFO:astropy:using the unit adu passed to the FITS reader instead of the unit adu in the FITS file.\n",
      "INFO:astropy:using the unit adu passed to the FITS reader instead of the unit adu in the FITS file.\n"
     ]
    },
    {
     "name": "stdout",
     "output_type": "stream",
     "text": [
      "-----RAW FLAT DATA-----\n",
      "./data/flat/V_raw/domeflat_V_001.fits: 18844.611\n",
      "./data/flat/V_raw/domeflat_V_002.fits: 19799.984\n",
      "./data/flat/V_raw/domeflat_V_003.fits: 19964.163\n",
      "\n",
      "---REDUCED FLAT DATA---\n",
      "INFO: using the unit adu passed to the FITS reader instead of the unit adu in the FITS file. [astropy.nddata.ccddata]\n",
      "./data/flat/V_reduced/domeflat_V_001.fits: 17863.597\n",
      "INFO: using the unit adu passed to the FITS reader instead of the unit adu in the FITS file. [astropy.nddata.ccddata]\n",
      "./data/flat/V_reduced/domeflat_V_002.fits: 18818.938\n"
     ]
    },
    {
     "name": "stderr",
     "output_type": "stream",
     "text": [
      "INFO:astropy:using the unit adu passed to the FITS reader instead of the unit adu in the FITS file.\n"
     ]
    },
    {
     "name": "stdout",
     "output_type": "stream",
     "text": [
      "INFO: using the unit adu passed to the FITS reader instead of the unit adu in the FITS file. [astropy.nddata.ccddata]\n",
      "./data/flat/V_reduced/domeflat_V_003.fits: 18983.112\n",
      "\n",
      "--COMBINED FLATS DATA--\n",
      "./data/flat/combined_V_flat.fits: 0.996\n"
     ]
    }
   ],
   "source": [
    "print('-----RAW FLAT DATA-----')\n",
    "directory = ImageFileCollection(flat_dir + 'V_raw').files_filtered(include_path=True)\n",
    "for file_name in directory:\n",
    "    data_mean = CCDData.read(file_name, unit='adu').data.mean()\n",
    "    print(f'{file_name}: {data_mean:.3f}')\n",
    "    \n",
    "print('\\n---REDUCED FLAT DATA---')\n",
    "directory = ImageFileCollection(flat_dir + 'V_reduced').files_filtered(include_path=True)\n",
    "for file_name in directory:\n",
    "    data_mean = CCDData.read(file_name, unit='adu').data.mean()\n",
    "    print(f'{file_name}: {data_mean:.3f}')\n",
    "    \n",
    "print('\\n--COMBINED FLATS DATA--')\n",
    "path = flat_dir + 'combined_V_flat.fits'\n",
    "combined_V_flat = CCDData.read(path)\n",
    "data_mean = combined_V_flat.data.mean()\n",
    "print(f'{path}: {data_mean:.3f}')"
   ]
  },
  {
   "cell_type": "code",
   "execution_count": null,
   "id": "4ed1076b-f754-4bb4-a430-c834d968f1ad",
   "metadata": {},
   "outputs": [],
   "source": []
  }
 ],
 "metadata": {
  "kernelspec": {
   "display_name": "Python 3 (ipykernel)",
   "language": "python",
   "name": "python3"
  },
  "language_info": {
   "codemirror_mode": {
    "name": "ipython",
    "version": 3
   },
   "file_extension": ".py",
   "mimetype": "text/x-python",
   "name": "python",
   "nbconvert_exporter": "python",
   "pygments_lexer": "ipython3",
   "version": "3.9.12"
  }
 },
 "nbformat": 4,
 "nbformat_minor": 5
}
